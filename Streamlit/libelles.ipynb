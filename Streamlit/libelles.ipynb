{
 "cells": [
  {
   "cell_type": "code",
   "execution_count": 2,
   "metadata": {},
   "outputs": [],
   "source": [
    "# repertoire (relatif) des ficheirs de données\n",
    "data_path = '../../Data'\n",
    "models_path = '../../Models'"
   ]
  },
  {
   "cell_type": "code",
   "execution_count": 25,
   "metadata": {},
   "outputs": [],
   "source": [
    "import pandas as pd\n",
    "import csv\n",
    "vars = pd.read_csv(\"{}/variables.csv\".format(data_path), sep=';') \n",
    "vals = pd.read_csv(\"{}/libelles.csv\".format(data_path), sep=';')"
   ]
  },
  {
   "cell_type": "code",
   "execution_count": null,
   "metadata": {},
   "outputs": [],
   "source": [
    "dict = {}\n",
    "for i_var, row_var in vars.iterrows() :\n",
    "    values = vals[vals['colonne']==row_var['variable']]\n",
    "\n",
    "    dict_values = {}\n",
    "\n",
    "    for i_val, row_val in values.iterrows() :\n",
    "        dict_values[row_val['indice']] = row_val['libelle']\n",
    "\n",
    "    dict[row_var['variable']] = {}\n",
    "    dict[row_var['variable']]['variable'] = row_var['libelle']\n",
    "    dict[row_var['variable']]['valeurs'] = dict_values\n",
    "\n"
   ]
  },
  {
   "cell_type": "code",
   "execution_count": 38,
   "metadata": {},
   "outputs": [
    {
     "data": {
      "text/plain": [
       "['../../Data/libelles_variables.joblib']"
      ]
     },
     "execution_count": 38,
     "metadata": {},
     "output_type": "execute_result"
    }
   ],
   "source": [
    "from joblib import dump, load\n",
    "\n",
    "dump(dict, \"{}/libelles_variables.joblib\".format(data_path))"
   ]
  },
  {
   "cell_type": "code",
   "execution_count": 33,
   "metadata": {},
   "outputs": [
    {
     "data": {
      "text/plain": [
       "{'gloup': 'test'}"
      ]
     },
     "execution_count": 33,
     "metadata": {},
     "output_type": "execute_result"
    }
   ],
   "source": [
    "dict"
   ]
  },
  {
   "cell_type": "code",
   "execution_count": null,
   "metadata": {},
   "outputs": [],
   "source": []
  }
 ],
 "metadata": {
  "kernelspec": {
   "display_name": ".venv",
   "language": "python",
   "name": "python3"
  },
  "language_info": {
   "codemirror_mode": {
    "name": "ipython",
    "version": 3
   },
   "file_extension": ".py",
   "mimetype": "text/x-python",
   "name": "python",
   "nbconvert_exporter": "python",
   "pygments_lexer": "ipython3",
   "version": "3.12.4"
  }
 },
 "nbformat": 4,
 "nbformat_minor": 2
}
