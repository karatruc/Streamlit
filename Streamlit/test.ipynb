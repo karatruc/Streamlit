{
 "cells": [
  {
   "cell_type": "code",
   "execution_count": 1,
   "metadata": {},
   "outputs": [],
   "source": [
    "import pandas as pd\n",
    "from joblib import  load"
   ]
  },
  {
   "cell_type": "code",
   "execution_count": 2,
   "metadata": {},
   "outputs": [],
   "source": [
    "data_path = '../Data'\n",
    "model_path = '../Models'"
   ]
  },
  {
   "cell_type": "code",
   "execution_count": 3,
   "metadata": {},
   "outputs": [
    {
     "name": "stderr",
     "output_type": "stream",
     "text": [
      "C:\\Users\\Eric\\AppData\\Local\\Temp\\ipykernel_21804\\3603298639.py:1: DtypeWarning: Columns (20,26,27,56) have mixed types. Specify dtype option on import or set low_memory=False.\n",
      "  X = pd.read_csv('{}/accidents_merge.zip'.format(data_path))\n"
     ]
    }
   ],
   "source": [
    "X = pd.read_csv('{}/accidents_merge.zip'.format(data_path))"
   ]
  },
  {
   "cell_type": "code",
   "execution_count": 4,
   "metadata": {},
   "outputs": [],
   "source": [
    "XXX = pd.read_csv('{}/X_train.zip'.format(data_path))"
   ]
  },
  {
   "cell_type": "code",
   "execution_count": 4,
   "metadata": {},
   "outputs": [
    {
     "data": {
      "text/plain": [
       "nbv\n",
       "2          284266\n",
       "4           61102\n",
       "1           45136\n",
       "3           39989\n",
       "6           14252\n",
       "0           11060\n",
       "2            9927\n",
       "5            8901\n",
       "-1           4635\n",
       "8            4629\n",
       "4            2037\n",
       "7            1575\n",
       "1            1543\n",
       "3            1398\n",
       "10           1086\n",
       "9             735\n",
       "6             504\n",
       "5             302\n",
       "0             300\n",
       "12            239\n",
       "11            193\n",
       "8             151\n",
       " -1           150\n",
       "10             41\n",
       "7              23\n",
       "9               5\n",
       "#ERREUR         2\n",
       "12              1\n",
       "Name: count, dtype: int64"
      ]
     },
     "execution_count": 4,
     "metadata": {},
     "output_type": "execute_result"
    }
   ],
   "source": [
    "X['nbv'].value_counts()\n",
    "         "
   ]
  },
  {
   "cell_type": "code",
   "execution_count": null,
   "metadata": {},
   "outputs": [],
   "source": []
  }
 ],
 "metadata": {
  "kernelspec": {
   "display_name": ".venv",
   "language": "python",
   "name": "python3"
  },
  "language_info": {
   "codemirror_mode": {
    "name": "ipython",
    "version": 3
   },
   "file_extension": ".py",
   "mimetype": "text/x-python",
   "name": "python",
   "nbconvert_exporter": "python",
   "pygments_lexer": "ipython3",
   "version": "3.10.11"
  }
 },
 "nbformat": 4,
 "nbformat_minor": 2
}
