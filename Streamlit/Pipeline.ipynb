{
 "cells": [
  {
   "cell_type": "code",
   "execution_count": 44,
   "metadata": {},
   "outputs": [],
   "source": [
    "\n",
    "import pandas as pd\n",
    "import numpy as np\n",
    "from sklearn.model_selection import train_test_split\n",
    "from sklearn.preprocessing import StandardScaler, OneHotEncoder, FunctionTransformer\n",
    "from sklearn.compose import ColumnTransformer\n",
    "from sklearn.base import BaseEstimator, TransformerMixin\n",
    "from joblib import dump, load\n",
    "\n",
    "from sklearn.compose import make_column_transformer\n",
    "from sklearn.pipeline import make_pipeline, Pipeline\n"
   ]
  },
  {
   "cell_type": "code",
   "execution_count": 45,
   "metadata": {},
   "outputs": [],
   "source": [
    "# repertoire (relatif) des ficheirs de données\n",
    "data_path = '../Data'\n",
    "models_path = '../Models'\n"
   ]
  },
  {
   "cell_type": "code",
   "execution_count": 46,
   "metadata": {},
   "outputs": [
    {
     "name": "stderr",
     "output_type": "stream",
     "text": [
      "d:\\GIT\\.venv\\lib\\site-packages\\sklearn\\base.py:380: InconsistentVersionWarning: Trying to unpickle estimator KMeans from version 1.5.2 when using version 1.6.0. This might lead to breaking code or invalid results. Use at your own risk. For more info please refer to:\n",
      "https://scikit-learn.org/stable/model_persistence.html#security-maintainability-limitations\n",
      "  warnings.warn(\n",
      "d:\\GIT\\.venv\\lib\\site-packages\\sklearn\\base.py:380: InconsistentVersionWarning: Trying to unpickle estimator StandardScaler from version 1.5.2 when using version 1.6.0. This might lead to breaking code or invalid results. Use at your own risk. For more info please refer to:\n",
      "https://scikit-learn.org/stable/model_persistence.html#security-maintainability-limitations\n",
      "  warnings.warn(\n"
     ]
    }
   ],
   "source": [
    "# récupération du modèle de clustering pour la géolocalisation\n",
    "clusteringModel = load(\"{}/clustering_geoloc.joblib\".format(models_path))\n",
    "scaler = load(\"{}/scaler.joblib\".format(models_path))"
   ]
  },
  {
   "cell_type": "code",
   "execution_count": 47,
   "metadata": {},
   "outputs": [],
   "source": [
    "# récupération du transformer pour la nibarisation\n",
    "transformer = load(\"{}/OneHotEncoderTransformer.joblib\".format(models_path))\n"
   ]
  },
  {
   "cell_type": "code",
   "execution_count": 48,
   "metadata": {},
   "outputs": [],
   "source": [
    "def replaceByNan(df) :\n",
    "    df =  df.replace({'-1':np.nan,\n",
    "                            -1:np.nan,\n",
    "                            ' -1':np.nan,\n",
    "                            '#ERREUR':np.nan\n",
    "                        })\n",
    "    return df\n",
    "\n",
    "class RecodeMissingValues(BaseEstimator, TransformerMixin) :\n",
    "    def __init__(self) :\n",
    "        return None\n",
    "\n",
    "    def fit(self, X, y = None) :\n",
    "        return self\n",
    "\n",
    "    def transform(self, X) :\n",
    "        x = X.copy()\n",
    "        return replaceByNan(x)\n",
    "\n"
   ]
  },
  {
   "cell_type": "code",
   "execution_count": 49,
   "metadata": {},
   "outputs": [],
   "source": [
    "def addSecu(ds) :\n",
    "    for i in range(1,10) :\n",
    "        ds['secu_'+str(i)] = ((ds['secu1']==str(i)) | (ds['secu2']==str(i)) | (ds['secu3']==str(i)))*1\n",
    "    ds = ds.drop(['secu1','secu2','secu3'], axis = 1)\n",
    "    return ds\n",
    "\n",
    "class RecodeSecu(BaseEstimator, TransformerMixin) :\n",
    "    def __init__(self):\n",
    "        return None\n",
    "    \n",
    "    def fit(self, X, y = None) :\n",
    "        return self\n",
    "    \n",
    "    def transform(self, X) :\n",
    "        #secu  : un champ binaire par équipement\n",
    "        x = X.copy()\n",
    "        return addSecu(x)\n",
    "\n"
   ]
  },
  {
   "cell_type": "code",
   "execution_count": 50,
   "metadata": {},
   "outputs": [],
   "source": [
    "class DropColumns(BaseEstimator, TransformerMixin) :\n",
    "    def __init__(self, columns_list):\n",
    "        self.columns = columns_list\n",
    "        return None\n",
    "    def fit(self, X, y = None) :\n",
    "        return self\n",
    "    def transform(self, X) :\n",
    "        x = X.copy()\n",
    "        x = x.drop(self.columns, axis = 1)\n",
    "        return x"
   ]
  },
  {
   "cell_type": "code",
   "execution_count": 51,
   "metadata": {},
   "outputs": [],
   "source": [
    "class DropNa(BaseEstimator, TransformerMixin) :\n",
    "    def __init__(self) :\n",
    "        return None\n",
    "    \n",
    "    def fit(self, X, y = None) :\n",
    "        return self\n",
    "    \n",
    "    def transform(self, X) :\n",
    "        x= X.copy()\n",
    "        x = x.dropna(how = 'any', axis=0)\n",
    "        return x\n",
    "    \n"
   ]
  },
  {
   "cell_type": "code",
   "execution_count": 52,
   "metadata": {},
   "outputs": [],
   "source": [
    "class ConvertCoords(BaseEstimator, TransformerMixin) :\n",
    "    def __init__(self) :\n",
    "        return None\n",
    "    \n",
    "    def fit(self, X, y = None) :\n",
    "        return self\n",
    "    \n",
    "    def transform(self, X) :\n",
    "        x = X.copy()\n",
    "        x['lat']= x['lat'].str.replace(',','.').astype('float')\n",
    "        x['long']= x['long'].str.replace(',','.').astype('float')\n",
    "\n",
    "        return x\n"
   ]
  },
  {
   "cell_type": "code",
   "execution_count": 53,
   "metadata": {},
   "outputs": [],
   "source": [
    "def recodeDateTime(ds) :\n",
    "    ds['hh'] = ds['hrmn'].str[:2].astype('int')\n",
    "        \n",
    "    #conversin mois\n",
    "    ds['mois'] = ds['mois'].astype(int)\n",
    "\n",
    "    #ajout d'une variable nbinaire weekend\n",
    "    ds['weekend']=(pd.to_datetime(dict(day=ds['jour'], month=ds['mois'].astype(int), year=ds['an'])).dt.weekday>=5)*1\n",
    "\n",
    "    #calcul de l'age de la victime dans l'année de l'accident\n",
    "    ds['age'] = ds['an'].astype(int) - ds['an_nais'].astype(int)\n",
    "\n",
    "    #suppression des variables inutiles\n",
    "    ds = ds.drop(['jour','an', 'an_nais','hrmn'], axis = 1)\n",
    "\n",
    "    return ds\n",
    "\n",
    "class RecodeDatetime(BaseEstimator, TransformerMixin) :\n",
    "    def __init__(self) :\n",
    "        return None\n",
    "    \n",
    "    def fit(self, X, y = None) :\n",
    "        return self\n",
    "    \n",
    "    def transform(self, X) :\n",
    "        x = X.copy()\n",
    "        \n",
    "        x = recodeDateTime(x)\n",
    "\n",
    "        return x"
   ]
  },
  {
   "cell_type": "code",
   "execution_count": 54,
   "metadata": {},
   "outputs": [],
   "source": [
    "def addGeoloc(df, model) :\n",
    "    df['geoloc'] = model.predict(df[['lat','long']])\n",
    "    df = df.drop(['lat','long'], axis = 1) \n",
    "    return df                              \n",
    "\n",
    "\n",
    "class Geolocalization(BaseEstimator, TransformerMixin) :\n",
    "    def __init__(self, clustering_model) :\n",
    "        self.clusteringModel = clustering_model\n",
    "        return None\n",
    "    \n",
    "    def fit(self, X, y=None) :\n",
    "        return self\n",
    "    \n",
    "    def transform(self, X) :\n",
    "        x= X.copy()\n",
    "        x = addGeoloc(x, self.clusteringModel)\n",
    "        return x\n"
   ]
  },
  {
   "cell_type": "code",
   "execution_count": 55,
   "metadata": {},
   "outputs": [],
   "source": [
    "def classesAges(ds) :\n",
    "    bins = [0,9,17,24,44,64,999]\n",
    "    labels=[0,1,2,3,4,5]\n",
    "    ds['classe_age'] = pd.cut(ds['age'], bins=bins, labels=labels, include_lowest=True)\n",
    "    ds = ds.drop('age', axis = 1)\n",
    "    return ds\n",
    "\n",
    "class RecodeAges(BaseEstimator, TransformerMixin) :\n",
    "    def __init__(self) :\n",
    "        return None\n",
    "    \n",
    "    def fit(self, X, y=None) :\n",
    "        return self\n",
    "    \n",
    "    def transform(self, X) :\n",
    "        x = X.copy()\n",
    "        x = classesAges(x)\n",
    "        return x"
   ]
  },
  {
   "cell_type": "code",
   "execution_count": 56,
   "metadata": {},
   "outputs": [],
   "source": [
    "def binarisation(ds, cols, transformer) :\n",
    "\n",
    "    ds[cols] = ds[cols].astype(int)\n",
    "\n",
    "    #encoder = OneHotEncoder(sparse_output=False)\n",
    "    #transformer = make_column_transformer((encoder, cols), remainder='passthrough', verbose_feature_names_out=False) \n",
    "    #transformed=transformer.fit_transform(ds)\n",
    "    ds = pd.DataFrame(transformer.transform(ds), columns=transformer.get_feature_names_out(), index=ds.index)\n",
    "\n",
    "    return ds\n",
    "\n",
    "\n",
    "class Binarisation(BaseEstimator, TransformerMixin) :\n",
    "    def __init__(self, cat_cols, transformer) :\n",
    "        self.catCols = cat_cols\n",
    "        self.transformer = transformer\n",
    "        return None\n",
    "    \n",
    "    def fit(self, X, y=None) :\n",
    "        return self\n",
    "    \n",
    "    def transform(self, X) :\n",
    "        x = X.copy()\n",
    "        \n",
    "        x = binarisation(x, self.catCols, transformer)\n",
    "\n",
    "        return x"
   ]
  },
  {
   "cell_type": "code",
   "execution_count": 57,
   "metadata": {},
   "outputs": [],
   "source": [
    "def scaling(ds, cols, scaler) :\n",
    "    ds[cols] = scaler.transform(ds[cols])\n",
    "    \n",
    "    return ds\n",
    "\n",
    "class Scaling(BaseEstimator, TransformerMixin) :\n",
    "    def __init__(self, num_cols, scaler) :\n",
    "        self.scaler = scaler\n",
    "        self.numCols = num_cols\n",
    "        return None\n",
    "    \n",
    "    def fit(self, X, y=None) :\n",
    "        return self\n",
    "    \n",
    "    def transform(self, X) :\n",
    "        x = X.copy()\n",
    "        x = scaling(x, self.numCols, self.scaler)\n",
    "        return x"
   ]
  },
  {
   "cell_type": "code",
   "execution_count": 58,
   "metadata": {},
   "outputs": [],
   "source": [
    "cat_cols=['mois', 'lum', 'agg', 'int', 'atm', 'col', 'catr', 'circ', 'vosp', 'prof', 'plan', \n",
    "          'surf', 'infra', 'situ', 'catv', 'obs', 'obsm', 'choc', 'manv', 'motor', \n",
    "          'place', 'catu', 'trajet','sexe','hh','weekend','geoloc','classe_age']\n",
    "num_cols = ['nbv','vma']"
   ]
  },
  {
   "cell_type": "code",
   "execution_count": 59,
   "metadata": {},
   "outputs": [],
   "source": [
    "pipe = Pipeline(\n",
    "    steps = [\n",
    "        ('Recodage Valeurs Manquantes', RecodeMissingValues()),\n",
    "        ('Recodage des équipements de sécurité',RecodeSecu()),\n",
    "        #('Suppression Colonnes',DropColumns(['adr', 'voie','v1', 'v2', 'lartpc', 'larrout', 'occutc', 'locp', 'actp', 'etatp', 'pr','pr1', 'senc', 'dep','com'])),\n",
    "        ('Suppression des lignes avec données manquantes',DropNa()),\n",
    "        #('Conversion des coordonnées géographiques', ConvertCoords()),\n",
    "        ('Recodage des variables temporelles', RecodeDatetime()),\n",
    "        ('Clusterisation des géolocalisation',Geolocalization(clusteringModel)),\n",
    "        ('Tranches d\\'ages',RecodeAges()),\n",
    "        ('Binarisation des variables catégorielle',Binarisation(cat_cols, transformer)),\n",
    "        ('Standardisation des variables numériques', Scaling(num_cols, scaler))\n",
    "    ]\n",
    "    \n",
    ")"
   ]
  },
  {
   "cell_type": "code",
   "execution_count": 60,
   "metadata": {},
   "outputs": [
    {
     "data": {
      "text/plain": [
       "['../Models/predict_pipeline.joblib']"
      ]
     },
     "execution_count": 60,
     "metadata": {},
     "output_type": "execute_result"
    }
   ],
   "source": [
    "dump(pipe, \"{}/predict_pipeline.joblib\".format(models_path))"
   ]
  },
  {
   "cell_type": "code",
   "execution_count": null,
   "metadata": {},
   "outputs": [],
   "source": []
  }
 ],
 "metadata": {
  "kernelspec": {
   "display_name": ".venv",
   "language": "python",
   "name": "python3"
  },
  "language_info": {
   "codemirror_mode": {
    "name": "ipython",
    "version": 3
   },
   "file_extension": ".py",
   "mimetype": "text/x-python",
   "name": "python",
   "nbconvert_exporter": "python",
   "pygments_lexer": "ipython3",
   "version": "3.10.11"
  }
 },
 "nbformat": 4,
 "nbformat_minor": 2
}
