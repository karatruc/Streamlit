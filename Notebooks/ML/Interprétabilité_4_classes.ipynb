{
 "cells": [
  {
   "cell_type": "code",
   "execution_count": 2,
   "metadata": {},
   "outputs": [],
   "source": [
    "from joblib import load\n",
    "import pandas as pd"
   ]
  },
  {
   "cell_type": "code",
   "execution_count": 4,
   "metadata": {},
   "outputs": [],
   "source": [
    "df = load('U:/Eric/GIT/Accidents/Models/4_Classes/UnderSampling/df_rec_4_classes.joblib')"
   ]
  },
  {
   "cell_type": "code",
   "execution_count": 5,
   "metadata": {},
   "outputs": [
    {
     "data": {
      "text/html": [
       "<div>\n",
       "<style scoped>\n",
       "    .dataframe tbody tr th:only-of-type {\n",
       "        vertical-align: middle;\n",
       "    }\n",
       "\n",
       "    .dataframe tbody tr th {\n",
       "        vertical-align: top;\n",
       "    }\n",
       "\n",
       "    .dataframe thead th {\n",
       "        text-align: right;\n",
       "    }\n",
       "</style>\n",
       "<table border=\"1\" class=\"dataframe\">\n",
       "  <thead>\n",
       "    <tr style=\"text-align: right;\">\n",
       "      <th></th>\n",
       "      <th>Régression Logistique</th>\n",
       "      <th>Decision Tree</th>\n",
       "      <th>Random Forest</th>\n",
       "      <th>AdaBoost</th>\n",
       "      <th>GradientBoosting</th>\n",
       "      <th>KNN</th>\n",
       "    </tr>\n",
       "  </thead>\n",
       "  <tbody>\n",
       "    <tr>\n",
       "      <th>0</th>\n",
       "      <td>0.795829</td>\n",
       "      <td>0.716447</td>\n",
       "      <td>0.747739</td>\n",
       "      <td>0.570066</td>\n",
       "      <td>0.776100</td>\n",
       "      <td>0.766181</td>\n",
       "    </tr>\n",
       "    <tr>\n",
       "      <th>1</th>\n",
       "      <td>0.438982</td>\n",
       "      <td>0.470829</td>\n",
       "      <td>0.447738</td>\n",
       "      <td>0.501757</td>\n",
       "      <td>0.465782</td>\n",
       "      <td>0.394222</td>\n",
       "    </tr>\n",
       "    <tr>\n",
       "      <th>2</th>\n",
       "      <td>0.341024</td>\n",
       "      <td>0.347968</td>\n",
       "      <td>0.363518</td>\n",
       "      <td>0.344713</td>\n",
       "      <td>0.406698</td>\n",
       "      <td>0.394691</td>\n",
       "    </tr>\n",
       "    <tr>\n",
       "      <th>3</th>\n",
       "      <td>0.628926</td>\n",
       "      <td>0.541322</td>\n",
       "      <td>0.600000</td>\n",
       "      <td>0.584711</td>\n",
       "      <td>0.626446</td>\n",
       "      <td>0.473554</td>\n",
       "    </tr>\n",
       "  </tbody>\n",
       "</table>\n",
       "</div>"
      ],
      "text/plain": [
       "   Régression Logistique  Decision Tree  Random Forest  AdaBoost  \\\n",
       "0               0.795829       0.716447       0.747739  0.570066   \n",
       "1               0.438982       0.470829       0.447738  0.501757   \n",
       "2               0.341024       0.347968       0.363518  0.344713   \n",
       "3               0.628926       0.541322       0.600000  0.584711   \n",
       "\n",
       "   GradientBoosting       KNN  \n",
       "0          0.776100  0.766181  \n",
       "1          0.465782  0.394222  \n",
       "2          0.406698  0.394691  \n",
       "3          0.626446  0.473554  "
      ]
     },
     "execution_count": 5,
     "metadata": {},
     "output_type": "execute_result"
    }
   ],
   "source": [
    "df"
   ]
  },
  {
   "cell_type": "code",
   "execution_count": 7,
   "metadata": {},
   "outputs": [
    {
     "name": "stderr",
     "output_type": "stream",
     "text": [
      "u:\\Eric\\GIT\\.venv\\Lib\\site-packages\\tqdm\\auto.py:21: TqdmWarning: IProgress not found. Please update jupyter and ipywidgets. See https://ipywidgets.readthedocs.io/en/stable/user_install.html\n",
      "  from .autonotebook import tqdm as notebook_tqdm\n"
     ]
    }
   ],
   "source": [
    "import shap"
   ]
  },
  {
   "cell_type": "code",
   "execution_count": 6,
   "metadata": {},
   "outputs": [],
   "source": [
    "from sklearn.ensemble import GradientBoostingClassifier"
   ]
  },
  {
   "cell_type": "code",
   "execution_count": 8,
   "metadata": {},
   "outputs": [],
   "source": [
    "clf = load('../../Models/4_Classes/UnderSampling/best_GradientBoosting.joblib')"
   ]
  },
  {
   "cell_type": "code",
   "execution_count": 10,
   "metadata": {},
   "outputs": [],
   "source": [
    "X_test = pd.read_csv('../../Data/X_test.zip', compression=dict(method='zip', archive_name='X_test.csv'))"
   ]
  },
  {
   "cell_type": "code",
   "execution_count": null,
   "metadata": {},
   "outputs": [
    {
     "name": "stderr",
     "output_type": "stream",
     "text": [
      "PermutationExplainer explainer:   0%|          | 140/88598 [07:38<79:47:21,  3.25s/it]"
     ]
    }
   ],
   "source": [
    "explainer = shap.Explainer(clf.predict, X_test)\n",
    "shap_values = explainer.shap_values(X_test)"
   ]
  },
  {
   "cell_type": "code",
   "execution_count": null,
   "metadata": {},
   "outputs": [],
   "source": []
  }
 ],
 "metadata": {
  "kernelspec": {
   "display_name": ".venv",
   "language": "python",
   "name": "python3"
  },
  "language_info": {
   "codemirror_mode": {
    "name": "ipython",
    "version": 3
   },
   "file_extension": ".py",
   "mimetype": "text/x-python",
   "name": "python",
   "nbconvert_exporter": "python",
   "pygments_lexer": "ipython3",
   "version": "3.12.4"
  }
 },
 "nbformat": 4,
 "nbformat_minor": 2
}
