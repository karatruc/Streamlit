{
 "cells": [
  {
   "cell_type": "markdown",
   "id": "b23ad065-0130-4433-8948-8f03b6d3d1f5",
   "metadata": {},
   "source": [
    "# Recherche du meilleur modèle XGBoost sur 2 classes"
   ]
  },
  {
   "cell_type": "markdown",
   "id": "67dfd076-39d0-49e6-abe0-f354436e3c9c",
   "metadata": {},
   "source": [
    "### Imports"
   ]
  },
  {
   "cell_type": "code",
   "execution_count": 1,
   "id": "dce79b97-928b-454c-b493-604963e1bdac",
   "metadata": {},
   "outputs": [
    {
     "data": {
      "text/plain": [
       "<module 'save_model' from '/Users/thierno/Documents/DataScientest/Final_Project/MAR24_CDS_Accidents/Notebooks/Entrainements/python_scripts/save_model.py'>"
      ]
     },
     "execution_count": 1,
     "metadata": {},
     "output_type": "execute_result"
    }
   ],
   "source": [
    "import seaborn as sns\n",
    "%matplotlib inline\n",
    "import matplotlib.pyplot as plt\n",
    "import warnings\n",
    "warnings.simplefilter(action='ignore', category=FutureWarning)\n",
    "import pandas as pd\n",
    "\n",
    "## Import des scripts python\n",
    "import sys\n",
    "import os\n",
    "sys.path.append(os.path.abspath('../../python_scripts/'))\n",
    "\n",
    "#import load_datas\n",
    "import train_model as train\n",
    "import save_model as saveModel\n",
    "#import pickle_model\n",
    "\n",
    "# Rechargement en cas de modification\n",
    "import importlib\n",
    "importlib.reload(train)\n",
    "importlib.reload(saveModel)\n",
    "#importlib.reload(pickle_model)"
   ]
  },
  {
   "cell_type": "markdown",
   "id": "f9a6af25-feb9-4cad-86e0-5bbf34bb1fa0",
   "metadata": {},
   "source": [
    "### Chargement des datasets"
   ]
  },
  {
   "cell_type": "code",
   "execution_count": 2,
   "id": "ee15448b-0862-433f-824b-631ea21c7693",
   "metadata": {},
   "outputs": [
    {
     "name": "stdout",
     "output_type": "stream",
     "text": [
      "X_train shape : (352893, 337)\n",
      "X_test shape : (88224, 337)\n"
     ]
    }
   ],
   "source": [
    "import warnings\n",
    "warnings.simplefilter(action='ignore', category=FutureWarning)\n",
    "\n",
    "import pandas as pd\n",
    "\n",
    "pd.set_option('display.max_columns', None)\n",
    "\n",
    "#df = pd.read_csv(\"../../data/accidents_data.zip\", compression=dict(method='zip', archive_name='accidents_data.csv'))\n",
    "\n",
    "#display(df.head())\n",
    "\n",
    "#X = df.drop(columns=['grav'])\n",
    "#y = df['grav']\n",
    "\n",
    "\n",
    "X_train = pd.read_csv(\"../../../../Data/X_train.zip\", compression=dict(method='zip', archive_name='X_train.csv'))\n",
    "y_train = pd.read_csv(\"../../../../Data/y_train.zip\", compression=dict(method='zip', archive_name='y_train.csv'))['grav']\n",
    "\n",
    "X_test = pd.read_csv(\"../../../../Data/X_test.zip\", compression=dict(method='zip', archive_name='X_test.csv'))\n",
    "y_test = pd.read_csv(\"../../../../Data/y_test.zip\", compression=dict(method='zip', archive_name='y_test.csv'))['grav']\n",
    "\n",
    "print(\"X_train shape :\",X_train.shape)\n",
    "print(\"X_test shape :\",X_test.shape)\n",
    "\n",
    "y_train=y_train.replace({1:0})\n",
    "y_train=y_train.replace({2:1,3:1})\n",
    "\n",
    "y_test=y_test.replace({1:0})\n",
    "y_test=y_test.replace({2:1,3:1})\n"
   ]
  },
  {
   "cell_type": "markdown",
   "id": "98bd3d39-12d8-4dd4-85bc-d476c596490d",
   "metadata": {},
   "source": [
    "### Rééquilibrage du dataset d'entrainement"
   ]
  },
  {
   "cell_type": "code",
   "execution_count": 3,
   "id": "6319913c-32c3-4f60-ab18-d10bd91eadea",
   "metadata": {},
   "outputs": [],
   "source": [
    "from imblearn.under_sampling import RandomUnderSampler\n",
    "\n",
    "ro = RandomUnderSampler(random_state=1024)\n",
    "X_train_ru, y_train_ru = ro.fit_resample(X_train,y_train)"
   ]
  },
  {
   "cell_type": "markdown",
   "id": "4ce9a909-d7e9-4e7f-a06a-1c9272cc996b",
   "metadata": {},
   "source": [
    "### XGBClassifier : modèle par défaut "
   ]
  },
  {
   "cell_type": "code",
   "execution_count": 4,
   "id": "c40978b7-7560-4832-8b2e-d977b4ef1af5",
   "metadata": {},
   "outputs": [
    {
     "name": "stdout",
     "output_type": "stream",
     "text": [
      "Temps d'entraînement : 1.34 seconds\n",
      "Classification_Report: XGBClassifier_Default\n"
     ]
    },
    {
     "data": {
      "image/png": "[encoded data removed]",
      "text/plain": [
       "<Figure size 300x300 with 1 Axes>"
      ]
     },
     "metadata": {},
     "output_type": "display_data"
    },
    {
     "data": {
      "text/html": [
       "<div>\n",
       "<style scoped>\n",
       "    .dataframe tbody tr th:only-of-type {\n",
       "        vertical-align: middle;\n",
       "    }\n",
       "\n",
       "    .dataframe tbody tr th {\n",
       "        vertical-align: top;\n",
       "    }\n",
       "\n",
       "    .dataframe thead th {\n",
       "        text-align: right;\n",
       "    }\n",
       "</style>\n",
       "<table border=\"1\" class=\"dataframe\">\n",
       "  <thead>\n",
       "    <tr style=\"text-align: right;\">\n",
       "      <th></th>\n",
       "      <th>0</th>\n",
       "      <th>1</th>\n",
       "      <th>Training_Time</th>\n",
       "      <th>Best_Params</th>\n",
       "    </tr>\n",
       "  </thead>\n",
       "  <tbody>\n",
       "    <tr>\n",
       "      <th>XGBClassifier_Default</th>\n",
       "      <td>0.762667</td>\n",
       "      <td>0.830505</td>\n",
       "      <td>1.343529</td>\n",
       "      <td>Default</td>\n",
       "    </tr>\n",
       "  </tbody>\n",
       "</table>\n",
       "</div>"
      ],
      "text/plain": [
       "                              0         1  Training_Time Best_Params\n",
       "XGBClassifier_Default  0.762667  0.830505       1.343529     Default"
      ]
     },
     "metadata": {},
     "output_type": "display_data"
    },
    {
     "data": {
      "text/plain": [
       "(XGBClassifier(base_score=None, booster=None, callbacks=None,\n",
       "               colsample_bylevel=None, colsample_bynode=None,\n",
       "               colsample_bytree=None, device=None, early_stopping_rounds=None,\n",
       "               enable_categorical=False, eval_metric=None, feature_types=None,\n",
       "               gamma=None, grow_policy=None, importance_type=None,\n",
       "               interaction_constraints=None, learning_rate=None, max_bin=None,\n",
       "               max_cat_threshold=None, max_cat_to_onehot=None,\n",
       "               max_delta_step=None, max_depth=None, max_leaves=None,\n",
       "               min_child_weight=None, missing=nan, monotone_constraints=None,\n",
       "               multi_strategy=None, n_estimators=None, n_jobs=None,\n",
       "               num_parallel_tree=None, random_state=42, ...),\n",
       "                               0         1  Training_Time Best_Params\n",
       " XGBClassifier_Default  0.762667  0.830505       1.343529     Default)"
      ]
     },
     "execution_count": 4,
     "metadata": {},
     "output_type": "execute_result"
    }
   ],
   "source": [
    "from xgboost import XGBClassifier\n",
    "\n",
    "train.fit(\"XGBClassifier_Default\",\n",
    "          XGBClassifier(random_state=42),\n",
    "          X_train_ru,\n",
    "          y_train_ru,\n",
    "          X_test,\n",
    "          y_test)\n",
    "\n"
   ]
  },
  {
   "cell_type": "markdown",
   "id": "308fdfa6-0181-4c69-ae0b-78e75b70c556",
   "metadata": {},
   "source": [
    "### XGBClassifier : Grid Search"
   ]
  },
  {
   "cell_type": "code",
   "execution_count": 5,
   "id": "d2c0d1d0-5ce4-4b07-a553-fb821f336474",
   "metadata": {},
   "outputs": [
    {
     "name": "stderr",
     "output_type": "stream",
     "text": [
      "/Users/thierno/Documents/DataScientest/Final_Project/MAR24_CDS_Accidents/.venv/lib/python3.11/site-packages/joblib/externals/loky/process_executor.py:752: UserWarning: A worker stopped while some jobs were given to the executor. This can be caused by a too short worker timeout or by a memory leak.\n",
      "  warnings.warn(\n"
     ]
    },
    {
     "name": "stdout",
     "output_type": "stream",
     "text": [
      "Temps d'entraînement : 4.59 minutes\n",
      "Classification_Report: XGBClassifier_Grid\n"
     ]
    },
    {
     "data": {
      "image/png": "[encoded data removed]",
      "text/plain": [
       "<Figure size 300x300 with 1 Axes>"
      ]
     },
     "metadata": {},
     "output_type": "display_data"
    },
    {
     "name": "stdout",
     "output_type": "stream",
     "text": [
      "*** Best Param : {'learning_rate': 0.1, 'max_depth': 8, 'n_estimators': 300} ***\n"
     ]
    },
    {
     "data": {
      "text/html": [
       "<div>\n",
       "<style scoped>\n",
       "    .dataframe tbody tr th:only-of-type {\n",
       "        vertical-align: middle;\n",
       "    }\n",
       "\n",
       "    .dataframe tbody tr th {\n",
       "        vertical-align: top;\n",
       "    }\n",
       "\n",
       "    .dataframe thead th {\n",
       "        text-align: right;\n",
       "    }\n",
       "</style>\n",
       "<table border=\"1\" class=\"dataframe\">\n",
       "  <thead>\n",
       "    <tr style=\"text-align: right;\">\n",
       "      <th></th>\n",
       "      <th>0</th>\n",
       "      <th>1</th>\n",
       "      <th>Training_Time</th>\n",
       "      <th>Best_Params</th>\n",
       "    </tr>\n",
       "  </thead>\n",
       "  <tbody>\n",
       "    <tr>\n",
       "      <th>XGBClassifier_Grid</th>\n",
       "      <td>0.765676</td>\n",
       "      <td>0.837682</td>\n",
       "      <td>275.269309</td>\n",
       "      <td>{'learning_rate': 0.1, 'max_depth': 8, 'n_esti...</td>\n",
       "    </tr>\n",
       "  </tbody>\n",
       "</table>\n",
       "</div>"
      ],
      "text/plain": [
       "                           0         1  Training_Time  \\\n",
       "XGBClassifier_Grid  0.765676  0.837682     275.269309   \n",
       "\n",
       "                                                          Best_Params  \n",
       "XGBClassifier_Grid  {'learning_rate': 0.1, 'max_depth': 8, 'n_esti...  "
      ]
     },
     "metadata": {},
     "output_type": "display_data"
    }
   ],
   "source": [
    "import warnings\n",
    "warnings.simplefilter(action='ignore', category=FutureWarning)\n",
    "\n",
    "from xgboost import XGBClassifier\n",
    "\n",
    "param_grid = {\n",
    "    # max_depth est la profondeur maximale de chaque arbre. Une valeur plus élevée rendra le modèle plus complexe et pourrait entraîner un surapprentissage.\n",
    "    'max_depth': [3, 4, 5,7,8],\n",
    "    \n",
    "    # learning_rate (ou taux d'apprentissage) est le pas d'ajustement effectué à chaque étape de l'optimisation. Une valeur plus faible rendra l'apprentissage plus lent.\n",
    "    'learning_rate': [0.01, 0.1, 0.2],\n",
    "    \n",
    "    # n_estimators est le nombre d'arbres à construire.\n",
    "    'n_estimators': [100, 200, 300],\n",
    "    \n",
    "    \n",
    "}\n",
    "\n",
    "best_model, df_result = train.fit_grid_search(\"XGBClassifier_Grid\",\n",
    "                               XGBClassifier(random_state=42),\n",
    "                               param_grid,\n",
    "                               5,\n",
    "                               X_train_ru,\n",
    "                               y_train_ru,\n",
    "                               X_test,\n",
    "                               y_test)\n",
    "\n"
   ]
  },
  {
   "cell_type": "markdown",
   "id": "9e6ddc32-ba5b-410e-891f-fdd08bca2373",
   "metadata": {},
   "source": [
    "### Sauvegarde du meilleur modèle "
   ]
  },
  {
   "cell_type": "code",
   "execution_count": 6,
   "id": "b6d4b986-6809-4232-8a04-c33fd7fd71cf",
   "metadata": {},
   "outputs": [],
   "source": [
    "import joblib\n",
    "\n",
    "file_name = \"best_models/xgboost_2_classes.gz\"\n",
    "saveModel.save(best_model, file_name)\n",
    "\n"
   ]
  },
  {
   "cell_type": "code",
   "execution_count": null,
   "id": "85d384b5-313c-4873-bdc5-321f77485192",
   "metadata": {},
   "outputs": [],
   "source": []
  },
  {
   "cell_type": "markdown",
   "id": "0631e720-ce0d-49e4-87e5-c6e60284da53",
   "metadata": {},
   "source": [
    "### Test du chargement du modèle sauvegardé"
   ]
  },
  {
   "cell_type": "code",
   "execution_count": 7,
   "id": "0bbf3a1f-138a-4a6e-9857-6a7df6c2c362",
   "metadata": {},
   "outputs": [
    {
     "name": "stdout",
     "output_type": "stream",
     "text": [
      "              precision    recall  f1-score   support\n",
      "\n",
      "           0       0.95      0.77      0.85     71781\n",
      "           1       0.45      0.84      0.59     16443\n",
      "\n",
      "    accuracy                           0.78     88224\n",
      "   macro avg       0.70      0.80      0.72     88224\n",
      "weighted avg       0.86      0.78      0.80     88224\n",
      "\n"
     ]
    }
   ],
   "source": [
    "from sklearn.metrics import classification_report\n",
    "\n",
    "# Chargement du modele\n",
    "#model = joblib.load(model_filename_gz)\n",
    "model = saveModel.load(file_name)\n",
    "# Prediction du model\n",
    "y_pred = model.predict(X_test)\n",
    "\n",
    "# Évaluation du modèle\n",
    "print(classification_report(y_test, y_pred))\n"
   ]
  }
 ],
 "metadata": {
  "kernelspec": {
   "display_name": "Python 3 (ipykernel)",
   "language": "python",
   "name": "python3"
  },
  "language_info": {
   "codemirror_mode": {
    "name": "ipython",
    "version": 3
   },
   "file_extension": ".py",
   "mimetype": "text/x-python",
   "name": "python",
   "nbconvert_exporter": "python",
   "pygments_lexer": "ipython3",
   "version": "3.11.2"
  }
 },
 "nbformat": 4,
 "nbformat_minor": 5
}
