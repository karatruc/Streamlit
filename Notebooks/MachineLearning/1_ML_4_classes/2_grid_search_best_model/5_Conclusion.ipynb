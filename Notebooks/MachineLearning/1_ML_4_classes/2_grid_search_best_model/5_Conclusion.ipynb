{
 "cells": [
  {
   "cell_type": "markdown",
   "id": "b23ad065-0130-4433-8948-8f03b6d3d1f5",
   "metadata": {},
   "source": [
    "# Conclusion : choix du meilleur modèle sur 4 classes"
   ]
  },
  {
   "cell_type": "markdown",
   "id": "67dfd076-39d0-49e6-abe0-f354436e3c9c",
   "metadata": {},
   "source": [
    "### Imports"
   ]
  },
  {
   "cell_type": "code",
   "execution_count": 6,
   "id": "dce79b97-928b-454c-b493-604963e1bdac",
   "metadata": {},
   "outputs": [],
   "source": [
    "import seaborn as sns\n",
    "%matplotlib inline\n",
    "import matplotlib.pyplot as plt\n",
    "import warnings\n",
    "warnings.simplefilter(action='ignore', category=FutureWarning)\n",
    "import pandas as pd\n",
    "\n",
    "## Import des scripts python\n",
    "import sys\n",
    "import os\n",
    "sys.path.append(os.path.abspath('../../python_scripts/'))\n",
    "\n",
    "#import load_datas\n",
    "import train_model as train\n",
    "import save_model as saveModel\n",
    "#import pickle_model\n",
    "\n",
    "# Rechargement en cas de modification\n",
    "import importlib\n",
    "importlib.reload(train)\n",
    "importlib.reload(saveModel)\n",
    "from sklearn.metrics import classification_report"
   ]
  },
  {
   "cell_type": "markdown",
   "id": "f9a6af25-feb9-4cad-86e0-5bbf34bb1fa0",
   "metadata": {},
   "source": [
    "### Chargement des datasets"
   ]
  },
  {
   "cell_type": "code",
   "execution_count": 2,
   "id": "ee15448b-0862-433f-824b-631ea21c7693",
   "metadata": {},
   "outputs": [
    {
     "name": "stdout",
     "output_type": "stream",
     "text": [
      "X_train shape : (352893, 337)\n",
      "X_test shape : (88224, 337)\n"
     ]
    }
   ],
   "source": [
    "import warnings\n",
    "warnings.simplefilter(action='ignore', category=FutureWarning)\n",
    "\n",
    "import pandas as pd\n",
    "\n",
    "pd.set_option('display.max_columns', None)\n",
    "\n",
    "\n",
    "X_train = pd.read_csv(\"../../../../Data/X_train.zip\", compression=dict(method='zip', archive_name='X_train.csv'))\n",
    "y_train = pd.read_csv(\"../../../../Data/y_train.zip\", compression=dict(method='zip', archive_name='y_train.csv'))['grav']\n",
    "\n",
    "X_test = pd.read_csv(\"../../../../Data/X_test.zip\", compression=dict(method='zip', archive_name='X_test.csv'))\n",
    "y_test = pd.read_csv(\"../../../../Data/y_test.zip\", compression=dict(method='zip', archive_name='y_test.csv'))['grav']\n",
    "\n",
    "print(\"X_train shape :\",X_train.shape)\n",
    "print(\"X_test shape :\",X_test.shape)\n"
   ]
  },
  {
   "cell_type": "markdown",
   "id": "98bd3d39-12d8-4dd4-85bc-d476c596490d",
   "metadata": {},
   "source": [
    "### Rééquilibrage du dataset d'entrainement "
   ]
  },
  {
   "cell_type": "code",
   "execution_count": 3,
   "id": "6319913c-32c3-4f60-ab18-d10bd91eadea",
   "metadata": {},
   "outputs": [],
   "source": [
    "from imblearn.under_sampling import RandomUnderSampler\n",
    "\n",
    "ro = RandomUnderSampler(random_state=1024)\n",
    "X_train_ru, y_train_ru = ro.fit_resample(X_train,y_train)"
   ]
  },
  {
   "cell_type": "markdown",
   "id": "9e6ddc32-ba5b-410e-891f-fdd08bca2373",
   "metadata": {},
   "source": [
    "### Chargement des deux meilleurs modèles"
   ]
  },
  {
   "cell_type": "code",
   "execution_count": 8,
   "id": "b6d4b986-6809-4232-8a04-c33fd7fd71cf",
   "metadata": {},
   "outputs": [
    {
     "name": "stdout",
     "output_type": "stream",
     "text": [
      "Classification Report pour CatBoost :\n",
      "\n",
      "              precision    recall  f1-score   support\n",
      "\n",
      "           0       0.75      0.77      0.76     36264\n",
      "           1       0.70      0.49      0.58     35517\n",
      "           2       0.40      0.44      0.42     13992\n",
      "           3       0.15      0.66      0.25      2451\n",
      "\n",
      "    accuracy                           0.60     88224\n",
      "   macro avg       0.50      0.59      0.50     88224\n",
      "weighted avg       0.66      0.60      0.62     88224\n",
      "\n",
      "==================================================\n",
      "Classification Report pour HistGradientBoosting :\n",
      "\n",
      "              precision    recall  f1-score   support\n",
      "\n",
      "           0       0.75      0.76      0.76     36264\n",
      "           1       0.70      0.49      0.58     35517\n",
      "           2       0.39      0.44      0.41     13992\n",
      "           3       0.15      0.67      0.25      2451\n",
      "\n",
      "    accuracy                           0.60     88224\n",
      "   macro avg       0.50      0.59      0.50     88224\n",
      "weighted avg       0.66      0.60      0.61     88224\n",
      "\n",
      "==================================================\n"
     ]
    }
   ],
   "source": [
    "import joblib\n",
    "\n",
    "catboost = \"best_models/catboost_4_classes.gz\"\n",
    "histGradient = \"best_models/HistGradientBoosting_4_classes.gz\"\n",
    "\n",
    "\n",
    "\n",
    "models = {\n",
    "    'CatBoost': saveModel.load(catboost),\n",
    "    'HistGradientBoosting': saveModel.load(histGradient)\n",
    "}\n",
    "\n",
    "\n",
    "for name, model in models.items():\n",
    "    \n",
    "    # Prédictions\n",
    "    y_pred = model.predict(X_test)\n",
    "    \n",
    "    # Afficher le classification report pour chaque modèle\n",
    "    print(f\"Classification Report pour {name} :\\n\")\n",
    "    print(classification_report(y_test, y_pred))\n",
    "    print(\"=\"*50)  # Séparateur entre les résultats"
   ]
  },
  {
   "cell_type": "markdown",
   "id": "a7b5ae12-d587-4c93-afde-7db4e0e60d86",
   "metadata": {},
   "source": [
    "### Conclusion:\n",
    ">* Le choix est très difficile car les deux modèles sont semblables au niveau des résulats"
   ]
  }
 ],
 "metadata": {
  "kernelspec": {
   "display_name": "Python 3 (ipykernel)",
   "language": "python",
   "name": "python3"
  },
  "language_info": {
   "codemirror_mode": {
    "name": "ipython",
    "version": 3
   },
   "file_extension": ".py",
   "mimetype": "text/x-python",
   "name": "python",
   "nbconvert_exporter": "python",
   "pygments_lexer": "ipython3",
   "version": "3.12.3"
  }
 },
 "nbformat": 4,
 "nbformat_minor": 5
}
