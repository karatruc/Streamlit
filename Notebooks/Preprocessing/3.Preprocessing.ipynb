{
 "cells": [
  {
   "cell_type": "code",
   "execution_count": 1,
   "metadata": {},
   "outputs": [],
   "source": [
    "#import bibliothèques\n",
    "\n",
    "import pandas as pd\n",
    "import numpy as np\n",
    "from sklearn.cluster import  KMeans\n"
   ]
  },
  {
   "cell_type": "code",
   "execution_count": 2,
   "metadata": {},
   "outputs": [],
   "source": [
    "pd.set_option('display.max_columns', None)\n",
    "\n",
    "df = pd.read_csv('accidents.csv', parse_dates=['date'])"
   ]
  },
  {
   "cell_type": "markdown",
   "metadata": {},
   "source": [
    "Clustering de la géolocalisation"
   ]
  },
  {
   "cell_type": "code",
   "execution_count": 3,
   "metadata": {},
   "outputs": [],
   "source": [
    "#corrections coordonnées antilles inversées\n",
    "idx = df['lat'] < -61\n",
    "df.loc[idx, ['lat','long']] = df.loc[idx, ['long','lat']].values\n",
    "\n",
    "coords=df[['lat','long']]\n",
    "\n",
    "kmeans = KMeans(n_clusters = 60)\n",
    "df['geoloc'] = kmeans.fit_predict(coords)\n"
   ]
  },
  {
   "cell_type": "markdown",
   "metadata": {},
   "source": [
    "Preprocessing final"
   ]
  },
  {
   "cell_type": "code",
   "execution_count": 4,
   "metadata": {},
   "outputs": [
    {
     "name": "stdout",
     "output_type": "stream",
     "text": [
      "Taux avant Modification grav\n",
      "1    41.253169\n",
      "4    40.312062\n",
      "3    15.695424\n",
      "2     2.739346\n",
      "Name: proportion, dtype: float64\n",
      "\n",
      "Taux après Modification grav\n",
      "0    41.253169\n",
      "1    40.312062\n",
      "2    15.695424\n",
      "3     2.739346\n",
      "Name: proportion, dtype: float64\n"
     ]
    }
   ],
   "source": [
    "data = df.drop(['grav','date', 'lat','long'], axis = 1)\n",
    "#data = df.drop(['grav','date'], axis = 1)\n",
    "\n",
    "\"\"\"\n",
    "Av => apr => label\n",
    "1 => 0 => Indemme\n",
    "4 => 1 => Blessé léger\n",
    "3 => 2 => Blessé hospitalisé\n",
    "2 => 3 => Tué\n",
    "\"\"\"\n",
    "print(\"Taux avant Modification\",df.grav.value_counts(normalize=True)*100)\n",
    "\n",
    "df['grav']=df['grav'].replace({1:0})\n",
    "df['grav']=df['grav'].replace({4:1})\n",
    "\n",
    "df['grav']=df['grav'].replace({3:5})\n",
    "df['grav']=df['grav'].replace({2:3})\n",
    "df['grav']=df['grav'].replace({5:2})\n",
    "\n",
    "print()\n",
    "\n",
    "print(\"Taux après Modification\",df.grav.value_counts(normalize=True)*100)\n",
    "\n",
    "target = df['grav']\n"
   ]
  },
  {
   "cell_type": "code",
   "execution_count": 5,
   "metadata": {},
   "outputs": [],
   "source": [
    "#différenciation des types d variables\n",
    "cat_cols = [x for x in data.select_dtypes('int').columns if ( x not in ['nbv','vma','age','hh'] and x[0:4] != 'secu' )]\n",
    "num_cols = [x for x in data.columns if ( x  in ['nbv','vma','age','hh'] )]"
   ]
  },
  {
   "cell_type": "code",
   "execution_count": 6,
   "metadata": {},
   "outputs": [],
   "source": [
    "#binarisation des variables catégorielle\n",
    "data = pd.get_dummies(data = data, columns=cat_cols, dtype='int64', drop_first=True)\n"
   ]
  },
  {
   "cell_type": "code",
   "execution_count": 7,
   "metadata": {},
   "outputs": [],
   "source": [
    "data.to_csv('var_explicatives.csv', index = False)\n",
    "target.to_csv('var_cible.csv', index = False)"
   ]
  }
 ],
 "metadata": {
  "kernelspec": {
   "display_name": ".venv",
   "language": "python",
   "name": "python3"
  },
  "language_info": {
   "codemirror_mode": {
    "name": "ipython",
    "version": 3
   },
   "file_extension": ".py",
   "mimetype": "text/x-python",
   "name": "python",
   "nbconvert_exporter": "python",
   "pygments_lexer": "ipython3",
   "version": "3.12.4"
  }
 },
 "nbformat": 4,
 "nbformat_minor": 2
}
