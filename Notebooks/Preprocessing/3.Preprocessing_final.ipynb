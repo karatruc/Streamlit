{
 "cells": [
  {
   "cell_type": "code",
   "execution_count": 1,
   "metadata": {},
   "outputs": [],
   "source": [
    "#import bibliothèques\n",
    "\n",
    "import pandas as pd\n",
    "import numpy as np\n",
    "from sklearn.model_selection import train_test_split\n",
    "from sklearn.preprocessing import StandardScaler, OneHotEncoder\n",
    "from sklearn.compose import ColumnTransformer\n"
   ]
  },
  {
   "cell_type": "code",
   "execution_count": 2,
   "metadata": {},
   "outputs": [],
   "source": [
    "pd.set_option('display.max_columns', None)\n",
    "\n",
    "data_path = '../../Data'\n",
    "\n",
    "df = pd.read_csv('{0}/accidents_geolocalises.zip'.format(data_path), compression=dict(method='zip', archive_name='accidents_geolocalises.csv'))"
   ]
  },
  {
   "cell_type": "markdown",
   "metadata": {},
   "source": [
    "Preprocessing final"
   ]
  },
  {
   "cell_type": "code",
   "execution_count": 3,
   "metadata": {},
   "outputs": [],
   "source": [
    "#suppression des doublons\n",
    "df = df.drop_duplicates()"
   ]
  },
  {
   "cell_type": "code",
   "execution_count": 4,
   "metadata": {},
   "outputs": [],
   "source": [
    "#séparation des variables explicatives et de la variable cible\n",
    "data = df.drop(['grav' ], axis = 1)\n",
    "target = df['grav']\n"
   ]
  },
  {
   "cell_type": "code",
   "execution_count": 5,
   "metadata": {},
   "outputs": [],
   "source": [
    "#différenciation des types d variables\n",
    "cat_cols = [x for x in data.select_dtypes('int').columns if ( x not in ['nbv','vma','weekend','sexe'] and x[0:4] != 'secu' )]\n",
    "num_cols = [x for x in data.columns if ( x  in ['nbv','vma'] )]"
   ]
  },
  {
   "cell_type": "code",
   "execution_count": 6,
   "metadata": {},
   "outputs": [],
   "source": [
    "#binarisation des variables catégorielle\n",
    "from sklearn.compose import make_column_transformer\n",
    "from sklearn.pipeline import make_pipeline\n",
    "\n",
    "encoder = OneHotEncoder(sparse_output=False)\n",
    "\n",
    "transformer = make_column_transformer((encoder, cat_cols), remainder='passthrough', verbose_feature_names_out=False)\n",
    "transformed=transformer.fit_transform(data)\n",
    "#data = pd.get_dummies(data = data, columns=cat_cols, dtype='int64', drop_first=True)\n",
    "data = pd.DataFrame(transformer.transform(data), columns=transformer.get_feature_names_out(), index=data.index)\n"
   ]
  },
  {
   "cell_type": "code",
   "execution_count": 7,
   "metadata": {},
   "outputs": [],
   "source": [
    "#séparation sdes jeux d'entrainement et de tests\n",
    "X_train, X_test, y_train, y_test = train_test_split(data, target, test_size=0.2, random_state = 2403 )"
   ]
  },
  {
   "cell_type": "code",
   "execution_count": 8,
   "metadata": {},
   "outputs": [],
   "source": [
    "# standardisation des variables numériques\n",
    "scaler = StandardScaler()\n",
    "X_train[num_cols] = scaler.fit_transform(X_train[num_cols])\n",
    "X_test[num_cols] = scaler.transform(X_test[num_cols])"
   ]
  },
  {
   "cell_type": "code",
   "execution_count": 9,
   "metadata": {},
   "outputs": [],
   "source": [
    "# sauvegardes des jeux de varaiblesq explicatives et cibles\n",
    "\n",
    "data.to_csv('{}/var_explicatives.zip'.format(data_path), index = False, compression=dict(method='zip', archive_name='var_explicatives.csv'))\n",
    "target.to_csv('{}/var_cible.zip'.format(data_path), index = False, compression=dict(method='zip', archive_name='var_cible.csv')  )"
   ]
  },
  {
   "cell_type": "code",
   "execution_count": 10,
   "metadata": {},
   "outputs": [],
   "source": [
    "# sauvegardes de jeux de données d'entrainement et de test\n",
    "\n",
    "X_train.to_csv('{}/X_train.zip'.format(data_path), index= False, compression=dict(method='zip', archive_name='X_train.csv'))\n",
    "X_test.to_csv('{}/X_test.zip'.format(data_path), index = False, compression=dict(method='zip', archive_name='X_test.csv'))\n",
    "y_train.to_csv('{}/y_train.zip'.format(data_path), index = False, compression=dict(method='zip', archive_name='y_train.csv'))\n",
    "y_test.to_csv('{}/y_test.zip'.format(data_path), index = False, compression=dict(method='zip', archive_name='y_test.csv'))"
   ]
  },
  {
   "cell_type": "code",
   "execution_count": null,
   "metadata": {},
   "outputs": [],
   "source": []
  }
 ],
 "metadata": {
  "kernelspec": {
   "display_name": ".venv",
   "language": "python",
   "name": "python3"
  },
  "language_info": {
   "codemirror_mode": {
    "name": "ipython",
    "version": 3
   },
   "file_extension": ".py",
   "mimetype": "text/x-python",
   "name": "python",
   "nbconvert_exporter": "python",
   "pygments_lexer": "ipython3",
   "version": "3.11.9"
  }
 },
 "nbformat": 4,
 "nbformat_minor": 2
}
