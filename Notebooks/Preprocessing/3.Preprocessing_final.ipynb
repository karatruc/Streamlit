{
 "cells": [
  {
   "cell_type": "code",
   "execution_count": 27,
   "metadata": {},
   "outputs": [],
   "source": [
    "#import bibliothèques\n",
    "\n",
    "import pandas as pd\n",
    "import numpy as np\n",
    "from sklearn.model_selection import train_test_split\n",
    "from sklearn.preprocessing import StandardScaler, OneHotEncoder\n",
    "from sklearn.compose import ColumnTransformer\n"
   ]
  },
  {
   "cell_type": "code",
   "execution_count": 19,
   "metadata": {},
   "outputs": [],
   "source": [
    "pd.set_option('display.max_columns', None)\n",
    "\n",
    "data_path = '../../Data'\n",
    "\n",
    "df = pd.read_csv('{0}/accidents_geolocalises.csv'.format(data_path))"
   ]
  },
  {
   "cell_type": "markdown",
   "metadata": {},
   "source": [
    "Preprocessing final"
   ]
  },
  {
   "cell_type": "code",
   "execution_count": 20,
   "metadata": {},
   "outputs": [],
   "source": [
    "data = df.drop(['grav' ], axis = 1)\n",
    "target = df['grav']\n"
   ]
  },
  {
   "cell_type": "code",
   "execution_count": 21,
   "metadata": {},
   "outputs": [],
   "source": [
    "#différenciation des types d variables\n",
    "cat_cols = [x for x in data.select_dtypes('int').columns if ( x not in ['nbv','vma'] and x[0:4] != 'secu' )]\n",
    "num_cols = [x for x in data.columns if ( x  in ['nbv','vma'] )]"
   ]
  },
  {
   "cell_type": "code",
   "execution_count": 47,
   "metadata": {},
   "outputs": [
    {
     "ename": "ValueError",
     "evalue": "Specifying the columns using strings is only supported for dataframes.",
     "output_type": "error",
     "traceback": [
      "\u001b[1;31m---------------------------------------------------------------------------\u001b[0m",
      "\u001b[1;31mAttributeError\u001b[0m                            Traceback (most recent call last)",
      "File \u001b[1;32mu:\\Eric\\GIT\\.venv\\Lib\\site-packages\\sklearn\\utils\\_indexing.py:338\u001b[0m, in \u001b[0;36m_get_column_indices\u001b[1;34m(X, key)\u001b[0m\n\u001b[0;32m    337\u001b[0m \u001b[38;5;28;01mtry\u001b[39;00m:\n\u001b[1;32m--> 338\u001b[0m     all_columns \u001b[38;5;241m=\u001b[39m \u001b[43mX\u001b[49m\u001b[38;5;241;43m.\u001b[39;49m\u001b[43mcolumns\u001b[49m\n\u001b[0;32m    339\u001b[0m \u001b[38;5;28;01mexcept\u001b[39;00m \u001b[38;5;167;01mAttributeError\u001b[39;00m:\n",
      "\u001b[1;31mAttributeError\u001b[0m: 'numpy.ndarray' object has no attribute 'columns'",
      "\nDuring handling of the above exception, another exception occurred:\n",
      "\u001b[1;31mValueError\u001b[0m                                Traceback (most recent call last)",
      "Cell \u001b[1;32mIn[47], line 6\u001b[0m\n\u001b[0;32m      3\u001b[0m ohe \u001b[38;5;241m=\u001b[39m OneHotEncoder(drop\u001b[38;5;241m=\u001b[39m\u001b[38;5;124m'\u001b[39m\u001b[38;5;124mfirst\u001b[39m\u001b[38;5;124m'\u001b[39m, handle_unknown\u001b[38;5;241m=\u001b[39m\u001b[38;5;124m'\u001b[39m\u001b[38;5;124mignore\u001b[39m\u001b[38;5;124m'\u001b[39m)\n\u001b[0;32m      4\u001b[0m transformer \u001b[38;5;241m=\u001b[39m ColumnTransformer(transformers\u001b[38;5;241m=\u001b[39m[(\u001b[38;5;124m'\u001b[39m\u001b[38;5;124m'\u001b[39m,  ohe, cat_cols)], remainder\u001b[38;5;241m=\u001b[39m\u001b[38;5;124m'\u001b[39m\u001b[38;5;124mpassthrough\u001b[39m\u001b[38;5;124m'\u001b[39m)\n\u001b[1;32m----> 6\u001b[0m transformed \u001b[38;5;241m=\u001b[39m \u001b[43mtransformer\u001b[49m\u001b[38;5;241;43m.\u001b[39;49m\u001b[43mfit_transform\u001b[49m\u001b[43m(\u001b[49m\u001b[43mdata\u001b[49m\u001b[38;5;241;43m.\u001b[39;49m\u001b[43mto_numpy\u001b[49m\u001b[43m(\u001b[49m\u001b[43m)\u001b[49m\u001b[38;5;241;43m.\u001b[39;49m\u001b[43mreshape\u001b[49m\u001b[43m(\u001b[49m\u001b[38;5;241;43m-\u001b[39;49m\u001b[38;5;241;43m1\u001b[39;49m\u001b[43m,\u001b[49m\u001b[38;5;241;43m1\u001b[39;49m\u001b[43m)\u001b[49m\u001b[43m)\u001b[49m\n\u001b[0;32m      7\u001b[0m \u001b[38;5;66;03m# Transformating back\u001b[39;00m\n\u001b[0;32m      8\u001b[0m \u001b[38;5;66;03m#transformed_df = pd.DataFrame(transformed)\u001b[39;00m\n",
      "File \u001b[1;32mu:\\Eric\\GIT\\.venv\\Lib\\site-packages\\sklearn\\utils\\_set_output.py:316\u001b[0m, in \u001b[0;36m_wrap_method_output.<locals>.wrapped\u001b[1;34m(self, X, *args, **kwargs)\u001b[0m\n\u001b[0;32m    314\u001b[0m \u001b[38;5;129m@wraps\u001b[39m(f)\n\u001b[0;32m    315\u001b[0m \u001b[38;5;28;01mdef\u001b[39;00m \u001b[38;5;21mwrapped\u001b[39m(\u001b[38;5;28mself\u001b[39m, X, \u001b[38;5;241m*\u001b[39margs, \u001b[38;5;241m*\u001b[39m\u001b[38;5;241m*\u001b[39mkwargs):\n\u001b[1;32m--> 316\u001b[0m     data_to_wrap \u001b[38;5;241m=\u001b[39m \u001b[43mf\u001b[49m\u001b[43m(\u001b[49m\u001b[38;5;28;43mself\u001b[39;49m\u001b[43m,\u001b[49m\u001b[43m \u001b[49m\u001b[43mX\u001b[49m\u001b[43m,\u001b[49m\u001b[43m \u001b[49m\u001b[38;5;241;43m*\u001b[39;49m\u001b[43margs\u001b[49m\u001b[43m,\u001b[49m\u001b[43m \u001b[49m\u001b[38;5;241;43m*\u001b[39;49m\u001b[38;5;241;43m*\u001b[39;49m\u001b[43mkwargs\u001b[49m\u001b[43m)\u001b[49m\n\u001b[0;32m    317\u001b[0m     \u001b[38;5;28;01mif\u001b[39;00m \u001b[38;5;28misinstance\u001b[39m(data_to_wrap, \u001b[38;5;28mtuple\u001b[39m):\n\u001b[0;32m    318\u001b[0m         \u001b[38;5;66;03m# only wrap the first output for cross decomposition\u001b[39;00m\n\u001b[0;32m    319\u001b[0m         return_tuple \u001b[38;5;241m=\u001b[39m (\n\u001b[0;32m    320\u001b[0m             _wrap_data_with_container(method, data_to_wrap[\u001b[38;5;241m0\u001b[39m], X, \u001b[38;5;28mself\u001b[39m),\n\u001b[0;32m    321\u001b[0m             \u001b[38;5;241m*\u001b[39mdata_to_wrap[\u001b[38;5;241m1\u001b[39m:],\n\u001b[0;32m    322\u001b[0m         )\n",
      "File \u001b[1;32mu:\\Eric\\GIT\\.venv\\Lib\\site-packages\\sklearn\\base.py:1473\u001b[0m, in \u001b[0;36m_fit_context.<locals>.decorator.<locals>.wrapper\u001b[1;34m(estimator, *args, **kwargs)\u001b[0m\n\u001b[0;32m   1466\u001b[0m     estimator\u001b[38;5;241m.\u001b[39m_validate_params()\n\u001b[0;32m   1468\u001b[0m \u001b[38;5;28;01mwith\u001b[39;00m config_context(\n\u001b[0;32m   1469\u001b[0m     skip_parameter_validation\u001b[38;5;241m=\u001b[39m(\n\u001b[0;32m   1470\u001b[0m         prefer_skip_nested_validation \u001b[38;5;129;01mor\u001b[39;00m global_skip_validation\n\u001b[0;32m   1471\u001b[0m     )\n\u001b[0;32m   1472\u001b[0m ):\n\u001b[1;32m-> 1473\u001b[0m     \u001b[38;5;28;01mreturn\u001b[39;00m \u001b[43mfit_method\u001b[49m\u001b[43m(\u001b[49m\u001b[43mestimator\u001b[49m\u001b[43m,\u001b[49m\u001b[43m \u001b[49m\u001b[38;5;241;43m*\u001b[39;49m\u001b[43margs\u001b[49m\u001b[43m,\u001b[49m\u001b[43m \u001b[49m\u001b[38;5;241;43m*\u001b[39;49m\u001b[38;5;241;43m*\u001b[39;49m\u001b[43mkwargs\u001b[49m\u001b[43m)\u001b[49m\n",
      "File \u001b[1;32mu:\\Eric\\GIT\\.venv\\Lib\\site-packages\\sklearn\\compose\\_column_transformer.py:968\u001b[0m, in \u001b[0;36mColumnTransformer.fit_transform\u001b[1;34m(self, X, y, **params)\u001b[0m\n\u001b[0;32m    965\u001b[0m \u001b[38;5;28mself\u001b[39m\u001b[38;5;241m.\u001b[39m_validate_transformers()\n\u001b[0;32m    966\u001b[0m n_samples \u001b[38;5;241m=\u001b[39m _num_samples(X)\n\u001b[1;32m--> 968\u001b[0m \u001b[38;5;28;43mself\u001b[39;49m\u001b[38;5;241;43m.\u001b[39;49m\u001b[43m_validate_column_callables\u001b[49m\u001b[43m(\u001b[49m\u001b[43mX\u001b[49m\u001b[43m)\u001b[49m\n\u001b[0;32m    969\u001b[0m \u001b[38;5;28mself\u001b[39m\u001b[38;5;241m.\u001b[39m_validate_remainder(X)\n\u001b[0;32m    971\u001b[0m \u001b[38;5;28;01mif\u001b[39;00m _routing_enabled():\n",
      "File \u001b[1;32mu:\\Eric\\GIT\\.venv\\Lib\\site-packages\\sklearn\\compose\\_column_transformer.py:536\u001b[0m, in \u001b[0;36mColumnTransformer._validate_column_callables\u001b[1;34m(self, X)\u001b[0m\n\u001b[0;32m    534\u001b[0m         columns \u001b[38;5;241m=\u001b[39m columns(X)\n\u001b[0;32m    535\u001b[0m     all_columns\u001b[38;5;241m.\u001b[39mappend(columns)\n\u001b[1;32m--> 536\u001b[0m     transformer_to_input_indices[name] \u001b[38;5;241m=\u001b[39m \u001b[43m_get_column_indices\u001b[49m\u001b[43m(\u001b[49m\u001b[43mX\u001b[49m\u001b[43m,\u001b[49m\u001b[43m \u001b[49m\u001b[43mcolumns\u001b[49m\u001b[43m)\u001b[49m\n\u001b[0;32m    538\u001b[0m \u001b[38;5;28mself\u001b[39m\u001b[38;5;241m.\u001b[39m_columns \u001b[38;5;241m=\u001b[39m all_columns\n\u001b[0;32m    539\u001b[0m \u001b[38;5;28mself\u001b[39m\u001b[38;5;241m.\u001b[39m_transformer_to_input_indices \u001b[38;5;241m=\u001b[39m transformer_to_input_indices\n",
      "File \u001b[1;32mu:\\Eric\\GIT\\.venv\\Lib\\site-packages\\sklearn\\utils\\_indexing.py:340\u001b[0m, in \u001b[0;36m_get_column_indices\u001b[1;34m(X, key)\u001b[0m\n\u001b[0;32m    338\u001b[0m     all_columns \u001b[38;5;241m=\u001b[39m X\u001b[38;5;241m.\u001b[39mcolumns\n\u001b[0;32m    339\u001b[0m \u001b[38;5;28;01mexcept\u001b[39;00m \u001b[38;5;167;01mAttributeError\u001b[39;00m:\n\u001b[1;32m--> 340\u001b[0m     \u001b[38;5;28;01mraise\u001b[39;00m \u001b[38;5;167;01mValueError\u001b[39;00m(\n\u001b[0;32m    341\u001b[0m         \u001b[38;5;124m\"\u001b[39m\u001b[38;5;124mSpecifying the columns using strings is only supported for dataframes.\u001b[39m\u001b[38;5;124m\"\u001b[39m\n\u001b[0;32m    342\u001b[0m     )\n\u001b[0;32m    343\u001b[0m \u001b[38;5;28;01mif\u001b[39;00m \u001b[38;5;28misinstance\u001b[39m(key, \u001b[38;5;28mstr\u001b[39m):\n\u001b[0;32m    344\u001b[0m     columns \u001b[38;5;241m=\u001b[39m [key]\n",
      "\u001b[1;31mValueError\u001b[0m: Specifying the columns using strings is only supported for dataframes."
     ]
    }
   ],
   "source": [
    "#binarisation des variables catégorielle\n",
    "#data = pd.get_dummies(data = data, columns=cat_cols, dtype='int64', drop_first=True)\n",
    "ohe = OneHotEncoder(drop='first', handle_unknown='ignore')\n",
    "transformer = ColumnTransformer(transformers=[('',  ohe, cat_cols)], remainder='passthrough')\n",
    "\n",
    "transformed = transformer.fit_transform(data.to_numpy().reshape(-1,1))\n",
    "# Transformating back\n",
    "#transformed_df = pd.DataFrame(transformed)"
   ]
  },
  {
   "cell_type": "code",
   "execution_count": 44,
   "metadata": {},
   "outputs": [],
   "source": [
    "transformed_df = pd.DataFrame(transformed)"
   ]
  },
  {
   "cell_type": "code",
   "execution_count": 45,
   "metadata": {},
   "outputs": [
    {
     "data": {
      "text/html": [
       "<div>\n",
       "<style scoped>\n",
       "    .dataframe tbody tr th:only-of-type {\n",
       "        vertical-align: middle;\n",
       "    }\n",
       "\n",
       "    .dataframe tbody tr th {\n",
       "        vertical-align: top;\n",
       "    }\n",
       "\n",
       "    .dataframe thead th {\n",
       "        text-align: right;\n",
       "    }\n",
       "</style>\n",
       "<table border=\"1\" class=\"dataframe\">\n",
       "  <thead>\n",
       "    <tr style=\"text-align: right;\">\n",
       "      <th></th>\n",
       "      <th>0</th>\n",
       "    </tr>\n",
       "  </thead>\n",
       "  <tbody>\n",
       "    <tr>\n",
       "      <th>0</th>\n",
       "      <td>&lt;Compressed Sparse Row sparse matrix of dtype ...</td>\n",
       "    </tr>\n",
       "    <tr>\n",
       "      <th>1</th>\n",
       "      <td>&lt;Compressed Sparse Row sparse matrix of dtype ...</td>\n",
       "    </tr>\n",
       "    <tr>\n",
       "      <th>2</th>\n",
       "      <td>&lt;Compressed Sparse Row sparse matrix of dtype ...</td>\n",
       "    </tr>\n",
       "    <tr>\n",
       "      <th>3</th>\n",
       "      <td>&lt;Compressed Sparse Row sparse matrix of dtype ...</td>\n",
       "    </tr>\n",
       "    <tr>\n",
       "      <th>4</th>\n",
       "      <td>&lt;Compressed Sparse Row sparse matrix of dtype ...</td>\n",
       "    </tr>\n",
       "    <tr>\n",
       "      <th>...</th>\n",
       "      <td>...</td>\n",
       "    </tr>\n",
       "    <tr>\n",
       "      <th>442984</th>\n",
       "      <td>&lt;Compressed Sparse Row sparse matrix of dtype ...</td>\n",
       "    </tr>\n",
       "    <tr>\n",
       "      <th>442985</th>\n",
       "      <td>&lt;Compressed Sparse Row sparse matrix of dtype ...</td>\n",
       "    </tr>\n",
       "    <tr>\n",
       "      <th>442986</th>\n",
       "      <td>&lt;Compressed Sparse Row sparse matrix of dtype ...</td>\n",
       "    </tr>\n",
       "    <tr>\n",
       "      <th>442987</th>\n",
       "      <td>&lt;Compressed Sparse Row sparse matrix of dtype ...</td>\n",
       "    </tr>\n",
       "    <tr>\n",
       "      <th>442988</th>\n",
       "      <td>&lt;Compressed Sparse Row sparse matrix of dtype ...</td>\n",
       "    </tr>\n",
       "  </tbody>\n",
       "</table>\n",
       "<p>442989 rows × 1 columns</p>\n",
       "</div>"
      ],
      "text/plain": [
       "                                                        0\n",
       "0       <Compressed Sparse Row sparse matrix of dtype ...\n",
       "1       <Compressed Sparse Row sparse matrix of dtype ...\n",
       "2       <Compressed Sparse Row sparse matrix of dtype ...\n",
       "3       <Compressed Sparse Row sparse matrix of dtype ...\n",
       "4       <Compressed Sparse Row sparse matrix of dtype ...\n",
       "...                                                   ...\n",
       "442984  <Compressed Sparse Row sparse matrix of dtype ...\n",
       "442985  <Compressed Sparse Row sparse matrix of dtype ...\n",
       "442986  <Compressed Sparse Row sparse matrix of dtype ...\n",
       "442987  <Compressed Sparse Row sparse matrix of dtype ...\n",
       "442988  <Compressed Sparse Row sparse matrix of dtype ...\n",
       "\n",
       "[442989 rows x 1 columns]"
      ]
     },
     "execution_count": 45,
     "metadata": {},
     "output_type": "execute_result"
    }
   ],
   "source": [
    "transformed_df"
   ]
  },
  {
   "cell_type": "code",
   "execution_count": 37,
   "metadata": {},
   "outputs": [
    {
     "data": {
      "text/plain": [
       "array(['__mois_2', '__mois_3', '__mois_4', '__mois_5', '__mois_6',\n",
       "       '__mois_7', '__mois_8', '__mois_9', '__mois_10', '__mois_11',\n",
       "       '__mois_12', '__lum_2', '__lum_3', '__lum_4', '__lum_5', '__agg_2',\n",
       "       '__int_2', '__int_3', '__int_4', '__int_5', '__int_6', '__int_7',\n",
       "       '__int_8', '__int_9', '__atm_2', '__atm_3', '__atm_4', '__atm_5',\n",
       "       '__atm_6', '__atm_7', '__atm_8', '__atm_9', '__col_2', '__col_3',\n",
       "       '__col_4', '__col_5', '__col_6', '__col_7', '__catr_2', '__catr_3',\n",
       "       '__catr_4', '__catr_5', '__catr_6', '__catr_7', '__catr_9',\n",
       "       '__circ_2', '__circ_3', '__circ_4', '__vosp_1', '__vosp_2',\n",
       "       '__vosp_3', '__prof_2', '__prof_3', '__prof_4', '__plan_2',\n",
       "       '__plan_3', '__plan_4', '__surf_2', '__surf_3', '__surf_4',\n",
       "       '__surf_5', '__surf_6', '__surf_7', '__surf_8', '__surf_9',\n",
       "       '__infra_1', '__infra_2', '__infra_3', '__infra_4', '__infra_5',\n",
       "       '__infra_6', '__infra_7', '__infra_8', '__infra_9', '__situ_2',\n",
       "       '__situ_3', '__situ_4', '__situ_5', '__situ_6', '__situ_8',\n",
       "       '__catv_1', '__catv_2', '__catv_3', '__catv_7', '__catv_10',\n",
       "       '__catv_13', '__catv_14', '__catv_15', '__catv_16', '__catv_17',\n",
       "       '__catv_20', '__catv_21', '__catv_30', '__catv_31', '__catv_32',\n",
       "       '__catv_33', '__catv_34', '__catv_35', '__catv_36', '__catv_37',\n",
       "       '__catv_38', '__catv_39', '__catv_40', '__catv_41', '__catv_42',\n",
       "       '__catv_43', '__catv_50', '__catv_60', '__catv_80', '__catv_99',\n",
       "       '__obs_1', '__obs_2', '__obs_3', '__obs_4', '__obs_5', '__obs_6',\n",
       "       '__obs_7', '__obs_8', '__obs_9', '__obs_10', '__obs_11',\n",
       "       '__obs_12', '__obs_13', '__obs_14', '__obs_15', '__obs_16',\n",
       "       '__obs_17', '__obsm_1', '__obsm_2', '__obsm_4', '__obsm_5',\n",
       "       '__obsm_6', '__obsm_9', '__choc_1', '__choc_2', '__choc_3',\n",
       "       '__choc_4', '__choc_5', '__choc_6', '__choc_7', '__choc_8',\n",
       "       '__choc_9', '__manv_1', '__manv_2', '__manv_3', '__manv_4',\n",
       "       '__manv_5', '__manv_6', '__manv_7', '__manv_8', '__manv_9',\n",
       "       '__manv_10', '__manv_11', '__manv_12', '__manv_13', '__manv_14',\n",
       "       '__manv_15', '__manv_16', '__manv_17', '__manv_18', '__manv_19',\n",
       "       '__manv_20', '__manv_21', '__manv_22', '__manv_23', '__manv_24',\n",
       "       '__manv_25', '__manv_26', '__motor_1', '__motor_2', '__motor_3',\n",
       "       '__motor_4', '__motor_5', '__motor_6', '__place_2', '__place_3',\n",
       "       '__place_4', '__place_5', '__place_6', '__place_7', '__place_8',\n",
       "       '__place_9', '__place_10', '__catu_2', '__catu_3', '__sexe_2',\n",
       "       '__trajet_1', '__trajet_2', '__trajet_3', '__trajet_4',\n",
       "       '__trajet_5', '__trajet_9', '__hh_1', '__hh_2', '__hh_3', '__hh_4',\n",
       "       '__hh_5', '__hh_6', '__hh_7', '__hh_8', '__hh_9', '__hh_10',\n",
       "       '__hh_11', '__hh_12', '__hh_13', '__hh_14', '__hh_15', '__hh_16',\n",
       "       '__hh_17', '__hh_18', '__hh_19', '__hh_20', '__hh_21', '__hh_22',\n",
       "       '__hh_23', '__weekend_1', '__classe_age_1', '__classe_age_2',\n",
       "       '__classe_age_3', '__classe_age_4', '__classe_age_5', '__geoloc_1',\n",
       "       '__geoloc_2', '__geoloc_3', '__geoloc_4', '__geoloc_5',\n",
       "       '__geoloc_6', '__geoloc_7', '__geoloc_8', '__geoloc_9',\n",
       "       '__geoloc_10', '__geoloc_11', '__geoloc_12', '__geoloc_13',\n",
       "       '__geoloc_14', '__geoloc_15', '__geoloc_16', '__geoloc_17',\n",
       "       '__geoloc_18', '__geoloc_19', '__geoloc_20', '__geoloc_21',\n",
       "       '__geoloc_22', '__geoloc_23', '__geoloc_24', '__geoloc_25',\n",
       "       '__geoloc_26', '__geoloc_27', '__geoloc_28', '__geoloc_29',\n",
       "       '__geoloc_30', '__geoloc_31', '__geoloc_32', '__geoloc_33',\n",
       "       '__geoloc_34', '__geoloc_35', '__geoloc_36', '__geoloc_37',\n",
       "       '__geoloc_38', '__geoloc_39', '__geoloc_40', '__geoloc_41',\n",
       "       '__geoloc_42', '__geoloc_43', '__geoloc_44', '__geoloc_45',\n",
       "       '__geoloc_46', '__geoloc_47', '__geoloc_48', '__geoloc_49',\n",
       "       '__geoloc_50', '__geoloc_51', '__geoloc_52', '__geoloc_53',\n",
       "       '__geoloc_54', '__geoloc_55', '__geoloc_56', '__geoloc_57',\n",
       "       '__geoloc_58', '__geoloc_59', 'remainder__nbv', 'remainder__vma',\n",
       "       'remainder__secu_1', 'remainder__secu_2', 'remainder__secu_3',\n",
       "       'remainder__secu_4', 'remainder__secu_5', 'remainder__secu_6',\n",
       "       'remainder__secu_7', 'remainder__secu_8', 'remainder__secu_9'],\n",
       "      dtype=object)"
      ]
     },
     "execution_count": 37,
     "metadata": {},
     "output_type": "execute_result"
    }
   ],
   "source": [
    "transformer.get_feature_names_out()"
   ]
  },
  {
   "cell_type": "code",
   "execution_count": null,
   "metadata": {},
   "outputs": [],
   "source": [
    "X_train, X_test, y_train, y_test = train_test_split(data, target, test_size=0.2, random_state=2403 )"
   ]
  },
  {
   "cell_type": "code",
   "execution_count": null,
   "metadata": {},
   "outputs": [],
   "source": [
    "scaler = StandardScaler()\n",
    "X_train[num_cols] = scaler.fit_transform(X_train[num_cols])\n",
    "X_test[num_cols] = scaler.transform(X_test[num_cols])"
   ]
  },
  {
   "cell_type": "code",
   "execution_count": 7,
   "metadata": {},
   "outputs": [],
   "source": [
    "data.to_csv('var_explicatives.csv', index = False)\n",
    "target.to_csv('var_cible.csv', index = False)"
   ]
  }
 ],
 "metadata": {
  "kernelspec": {
   "display_name": ".venv",
   "language": "python",
   "name": "python3"
  },
  "language_info": {
   "codemirror_mode": {
    "name": "ipython",
    "version": 3
   },
   "file_extension": ".py",
   "mimetype": "text/x-python",
   "name": "python",
   "nbconvert_exporter": "python",
   "pygments_lexer": "ipython3",
   "version": "3.12.4"
  }
 },
 "nbformat": 4,
 "nbformat_minor": 2
}
