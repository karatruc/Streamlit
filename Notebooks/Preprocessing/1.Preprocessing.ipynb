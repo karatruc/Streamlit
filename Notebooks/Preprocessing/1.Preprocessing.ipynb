{
 "cells": [
  {
   "cell_type": "markdown",
   "id": "1e213607",
   "metadata": {},
   "source": [
    "# Preprocessing"
   ]
  },
  {
   "cell_type": "markdown",
   "id": "15cda219",
   "metadata": {
    "vscode": {
     "languageId": "plaintext"
    }
   },
   "source": [
    "## Chargements des fichiers et fusion"
   ]
  },
  {
   "cell_type": "code",
   "execution_count": 136,
   "id": "50250582",
   "metadata": {},
   "outputs": [],
   "source": [
    "\n",
    "#Chargement des bibliothèques\n",
    "import pandas as pd\n",
    "import numpy as np\n",
    "import matplotlib.pyplot as plt\n",
    "import seaborn as sns\n",
    "from scipy.stats import chi2_contingency"
   ]
  },
  {
   "cell_type": "code",
   "execution_count": 137,
   "id": "ff4c8ea3",
   "metadata": {},
   "outputs": [],
   "source": [
    "# repertoire (relatif) des ficheirs de données\n",
    "data_path = '../../Data'\n"
   ]
  },
  {
   "cell_type": "code",
   "execution_count": 138,
   "id": "0f1458b4",
   "metadata": {},
   "outputs": [],
   "source": [
    "#chargement des nomenclatures\n",
    "\n",
    "#libelles : correspodnance valeur de la variable avec le libelle correspond\n",
    "libelles = pd.read_csv('{}/libelles.csv'.format(data_path), sep=';', index_col=['colonne', 'indice'])\n",
    "\n",
    "#variable : libelle complet pour chaque variable\n",
    "variables = pd.read_csv('{}/variables.csv'.format(data_path), sep=';', index_col = ['variable'])\n"
   ]
  },
  {
   "cell_type": "code",
   "execution_count": 139,
   "id": "4c406ce2",
   "metadata": {},
   "outputs": [],
   "source": [
    "#chargement des données\n",
    "annees = [str(x) for x in np.arange(2019,2023)]\n",
    "\n",
    "carac = pd.DataFrame()\n",
    "lieux = pd.DataFrame()\n",
    "usagers = pd.DataFrame()\n",
    "vehicules = pd.DataFrame()\n",
    "for annee in annees : \n",
    "    carac = pd.concat([carac, pd.read_csv(\"{}/caracteristiques-{}.csv\".format(data_path, annee), sep=';', dtype=object)])\n",
    "    lieux = pd.concat([lieux, pd.read_csv(\"{}/lieux-{}.csv\".format(data_path, annee), sep=';', dtype=object)])\n",
    "    usagers = pd.concat([usagers, pd.read_csv(\"{}/usagers-{}.csv\".format(data_path, annee), dtype=object,sep=';')])\n",
    "    vehicules = pd.concat([vehicules, pd.read_csv(\"{}/vehicules-{}.csv\".format(data_path, annee), sep=';', dtype=object)])\n"
   ]
  },
  {
   "cell_type": "code",
   "execution_count": 140,
   "id": "72e3884c",
   "metadata": {},
   "outputs": [],
   "source": [
    "#correction identifiant accident\n",
    "carac['Num_Acc'] = carac['Num_Acc'].fillna(carac['Accident_Id'])\n",
    "carac = carac.drop('Accident_Id', axis = 1)\n",
    "\n",
    "#jointure carac-lieux\n",
    "df = pd.merge(left = carac, right = lieux, left_on = 'Num_Acc', right_on='Num_Acc')\n",
    "\n",
    "#jointure df-vehicules\n",
    "df = pd.merge(left=df, right=vehicules, left_on='Num_Acc', right_on='Num_Acc')\n",
    "\n",
    "#jointure df-usagers\n",
    "df = pd.merge(left=df, right=usagers, right_on='id_vehicule', left_on='id_vehicule')\n",
    "\n",
    "#suppression des identifiants\n",
    "df = df.drop(['Num_Acc_x', 'id_vehicule', 'num_veh_x', 'Num_Acc_y','num_veh_y', 'id_usager'], axis = 1)"
   ]
  },
  {
   "cell_type": "markdown",
   "id": "e912df08",
   "metadata": {
    "vscode": {
     "languageId": "plaintext"
    }
   },
   "source": [
    "## Corrections des données"
   ]
  },
  {
   "cell_type": "code",
   "execution_count": 141,
   "id": "1490306d",
   "metadata": {},
   "outputs": [],
   "source": [
    "#recodage dess données manquantes en nan\n",
    "df = df.replace({\n",
    "    '-1':np.nan,\n",
    "    -1:np.nan,\n",
    "    ' -1':np.nan,\n",
    "    '#ERREUR':np.nan\n",
    "})\n"
   ]
  },
  {
   "cell_type": "code",
   "execution_count": 142,
   "id": "61ead187",
   "metadata": {},
   "outputs": [],
   "source": [
    "#secu  : un champ binaire par équipement\n",
    "for i in range(1,10) :\n",
    "    df['secu_'+str(i)] = ((df['secu1']==i) | (df['secu2']==i) | (df['secu3']==i))*1\n",
    "\n",
    "df = df.drop(['secu1','secu2','secu3'], axis = 1)"
   ]
  },
  {
   "cell_type": "code",
   "execution_count": 143,
   "id": "27fe62e4",
   "metadata": {},
   "outputs": [
    {
     "data": {
      "text/html": [
       "<div>\n",
       "<style scoped>\n",
       "    .dataframe tbody tr th:only-of-type {\n",
       "        vertical-align: middle;\n",
       "    }\n",
       "\n",
       "    .dataframe tbody tr th {\n",
       "        vertical-align: top;\n",
       "    }\n",
       "\n",
       "    .dataframe thead th {\n",
       "        text-align: right;\n",
       "    }\n",
       "</style>\n",
       "<table border=\"1\" class=\"dataframe\">\n",
       "  <thead>\n",
       "    <tr style=\"text-align: right;\">\n",
       "      <th></th>\n",
       "      <th>column_name</th>\n",
       "      <th>percent_missing</th>\n",
       "    </tr>\n",
       "  </thead>\n",
       "  <tbody>\n",
       "    <tr>\n",
       "      <th>lartpc</th>\n",
       "      <td>lartpc</td>\n",
       "      <td>99.781052</td>\n",
       "    </tr>\n",
       "    <tr>\n",
       "      <th>occutc</th>\n",
       "      <td>occutc</td>\n",
       "      <td>98.742973</td>\n",
       "    </tr>\n",
       "    <tr>\n",
       "      <th>larrout</th>\n",
       "      <td>larrout</td>\n",
       "      <td>95.380649</td>\n",
       "    </tr>\n",
       "    <tr>\n",
       "      <th>etatp</th>\n",
       "      <td>etatp</td>\n",
       "      <td>92.323476</td>\n",
       "    </tr>\n",
       "    <tr>\n",
       "      <th>v2</th>\n",
       "      <td>v2</td>\n",
       "      <td>91.998494</td>\n",
       "    </tr>\n",
       "  </tbody>\n",
       "</table>\n",
       "</div>"
      ],
      "text/plain": [
       "        column_name  percent_missing\n",
       "lartpc       lartpc        99.781052\n",
       "occutc       occutc        98.742973\n",
       "larrout     larrout        95.380649\n",
       "etatp         etatp        92.323476\n",
       "v2               v2        91.998494"
      ]
     },
     "execution_count": 143,
     "metadata": {},
     "output_type": "execute_result"
    }
   ],
   "source": [
    "pd.DataFrame({'column_name': df.columns,'percent_missing': df.isnull().sum() * 100 / len(df)}).sort_values('percent_missing', ascending=False).head(5)\n"
   ]
  },
  {
   "cell_type": "code",
   "execution_count": 144,
   "id": "795b52d9",
   "metadata": {},
   "outputs": [],
   "source": [
    "#elimination des colonnes avec plus de 25% de valeurs manquantes\n",
    "df = df.dropna(thresh=len(df)*3/4, axis = 1)"
   ]
  },
  {
   "cell_type": "code",
   "execution_count": 145,
   "id": "2fd51c24",
   "metadata": {},
   "outputs": [],
   "source": [
    "#suppression des lignes sans variable d'Interet\n",
    "df = df.dropna(subset=['grav'])"
   ]
  },
  {
   "cell_type": "code",
   "execution_count": 146,
   "id": "2509603b",
   "metadata": {},
   "outputs": [],
   "source": [
    "# suppression de l'adresse qui ne sert à rien\n",
    "df = df.drop('adr', axis = 1)"
   ]
  },
  {
   "cell_type": "code",
   "execution_count": 147,
   "id": "3321a6f6",
   "metadata": {},
   "outputs": [],
   "source": [
    "#suppression des variables de dénomination des voies ininterprétables\n",
    "df = df.drop(['voie','v1'], axis = 1)"
   ]
  },
  {
   "cell_type": "code",
   "execution_count": 148,
   "id": "7465bf95",
   "metadata": {},
   "outputs": [
    {
     "data": {
      "text/plain": [
       "0.1438342434716055"
      ]
     },
     "execution_count": 148,
     "metadata": {},
     "output_type": "execute_result"
    }
   ],
   "source": [
    "df.isna().sum(axis = 1).sum()/len(df)"
   ]
  },
  {
   "cell_type": "code",
   "execution_count": 149,
   "id": "2159899a",
   "metadata": {},
   "outputs": [],
   "source": [
    "#suppression des lignes ayant au mojns une valeur nulle (#14%)\n",
    "df = df.dropna(how = 'any', axis=0)"
   ]
  },
  {
   "cell_type": "code",
   "execution_count": 150,
   "id": "0cd5238c",
   "metadata": {},
   "outputs": [
    {
     "data": {
      "text/plain": [
       "(442989, 47)"
      ]
     },
     "execution_count": 150,
     "metadata": {},
     "output_type": "execute_result"
    }
   ],
   "source": [
    "#restent 442989 lignes\n",
    "df.shape"
   ]
  },
  {
   "cell_type": "code",
   "execution_count": 151,
   "id": "bb58d5c2",
   "metadata": {},
   "outputs": [],
   "source": [
    "#conversion des latitudes et longitudes\n",
    "df['lat']= df['lat'].str.replace(',','.').astype('float')\n",
    "df['long']= df['long'].str.replace(',','.').astype('float')\n"
   ]
  },
  {
   "cell_type": "code",
   "execution_count": 152,
   "id": "65fae716",
   "metadata": {},
   "outputs": [],
   "source": [
    "#on ajoute un créneau horaire\n",
    "df['hh'] = df['hrmn'].str[:2]\n",
    "\n",
    "df = df.drop('hrmn', axis = 1)"
   ]
  },
  {
   "cell_type": "code",
   "execution_count": 153,
   "id": "43451302",
   "metadata": {},
   "outputs": [],
   "source": [
    "#conversion en entier\n",
    "df['hh'] = df['hh'].astype('int')"
   ]
  },
  {
   "cell_type": "code",
   "execution_count": 154,
   "id": "121aa22b",
   "metadata": {},
   "outputs": [],
   "source": [
    "df['mois'] = df['mois'].astype(int)"
   ]
  },
  {
   "cell_type": "code",
   "execution_count": 155,
   "id": "95c11b37",
   "metadata": {},
   "outputs": [],
   "source": [
    "#on ajoute une variablme binaire indiquant semaine ou weekend\n",
    "df['weekend']=(pd.to_datetime(dict(day=df['jour'], month=df['mois'].astype(int), year=df['an'])).dt.weekday>=5)*1"
   ]
  },
  {
   "cell_type": "code",
   "execution_count": 156,
   "id": "ab63cd3b",
   "metadata": {},
   "outputs": [],
   "source": [
    "#calcul de l'age des usagers dans l'année de l'accident\n",
    "df['age'] = df['an'].astype(int) - df['an_nais'].astype(int)\n",
    "\n",
    "df = df.drop('an_nais', axis = 1)"
   ]
  },
  {
   "cell_type": "code",
   "execution_count": 157,
   "id": "f7ee3c38",
   "metadata": {},
   "outputs": [],
   "source": [
    "#suppression des jours et années\n",
    "df = df.drop(['jour','an'], axis = 1)"
   ]
  },
  {
   "cell_type": "code",
   "execution_count": 158,
   "id": "89f4b2f2",
   "metadata": {},
   "outputs": [],
   "source": [
    "# suppression des varaible de localisation (on utilsaera la géolocalisation) et des varaibles diffficilement interprétabes\n",
    "df = df.drop(['pr','pr1', 'senc', 'dep'], axis = 1)"
   ]
  },
  {
   "cell_type": "code",
   "execution_count": 159,
   "id": "5a5e5375",
   "metadata": {},
   "outputs": [
    {
     "data": {
      "text/plain": [
       "(442989, 42)"
      ]
     },
     "execution_count": 159,
     "metadata": {},
     "output_type": "execute_result"
    }
   ],
   "source": [
    "df.shape"
   ]
  },
  {
   "cell_type": "code",
   "execution_count": 160,
   "id": "c2ae3bce",
   "metadata": {},
   "outputs": [],
   "source": [
    "# Conversion des variables catégorielles en entiers\n",
    "df[['lum', 'int', 'atm', 'col',  'circ', 'vosp', 'prof',\n",
    "       'plan', 'surf', 'infra', 'situ', 'vma', 'catv', 'obs', 'obsm', 'choc',\n",
    "       'manv', 'motor', 'place', 'grav', 'sexe', 'trajet','nbv']] = df[['lum', 'int', 'atm', 'col',  'circ', 'vosp', 'prof',\n",
    "       'plan', 'surf', 'infra', 'situ', 'vma', 'catv', 'obs', 'obsm', 'choc',\n",
    "       'manv', 'motor', 'place', 'grav', 'sexe', 'trajet','nbv']].astype('int')"
   ]
  },
  {
   "cell_type": "code",
   "execution_count": 161,
   "id": "885eadf0",
   "metadata": {},
   "outputs": [],
   "source": [
    "#recodage de la gravité : indice croissant\n",
    "\"\"\"\n",
    "Av => apr => label\n",
    "1 => 0 => Indemme\n",
    "4 => 1 => Blessé léger\n",
    "3 => 2 => Blessé hospitalisé\n",
    "2 => 3 => Tué\n",
    "\"\"\"\n",
    "\n",
    "df['grav']=df['grav'].replace({1:0})\n",
    "df['grav']=df['grav'].replace({4:1})\n",
    "\n",
    "df['grav']=df['grav'].replace({3:5})\n",
    "df['grav']=df['grav'].replace({2:3})\n",
    "df['grav']=df['grav'].replace({5:2})"
   ]
  },
  {
   "cell_type": "markdown",
   "id": "d42f1342",
   "metadata": {},
   "source": [
    "## Géolocalisation"
   ]
  },
  {
   "cell_type": "code",
   "execution_count": 162,
   "id": "bdd55c34",
   "metadata": {},
   "outputs": [],
   "source": [
    "#corrections coordonnées martinique\n",
    "# coordonnées inversées\n",
    "idx = (df['com'].str[0:3] == '972' ) &  (df['long'].between(14,15) & (df['lat'].between(-62,-61) ))\n",
    "df.loc[idx, ['lat','long']] = df.loc[idx, ['long','lat']].values\n",
    "\n",
    "# longitude 16 <=> 61\n",
    "idx = (df['com'].str[0:3] == '972' ) & ( (df['long']==16 ))\n",
    "df.loc[idx, 'long'] = 61\n",
    "\n",
    "#longitude positive <=> négative\n",
    "idx = (df['com'].str[0:3] == '972' ) & ( (df['long']> 0 ))\n",
    "df.loc[idx, 'long'] = -df['long']\n",
    "\n",
    "#coordonnées saint pierre erronées : on remplace par le mode\n",
    "m_lat = df.loc[df['com']=='97213','lat'].mode()\n",
    "m_long = df.loc[df['com']=='97213','long'].mode()\n",
    "\n",
    "idx = (df['com'] == '97213' ) & (df['long'] == -1.407665)\n",
    "\n",
    "df.loc[idx,'lat'] = m_lat[0]\n",
    "df.loc[idx, 'long'] = m_long[0] \n",
    "\n",
    "# correction de la longitude erronée pour la guadeloupe\n",
    "idx = (df['com'].str[0:3] == '971' ) & ( (df['long']> 0 ))\n",
    "df.loc[idx, 'long'] = - df['long']\n"
   ]
  },
  {
   "cell_type": "code",
   "execution_count": 172,
   "id": "7285a143",
   "metadata": {},
   "outputs": [
    {
     "data": {
      "text/html": [
       "<div>\n",
       "<style scoped>\n",
       "    .dataframe tbody tr th:only-of-type {\n",
       "        vertical-align: middle;\n",
       "    }\n",
       "\n",
       "    .dataframe tbody tr th {\n",
       "        vertical-align: top;\n",
       "    }\n",
       "\n",
       "    .dataframe thead th {\n",
       "        text-align: right;\n",
       "    }\n",
       "</style>\n",
       "<table border=\"1\" class=\"dataframe\">\n",
       "  <thead>\n",
       "    <tr style=\"text-align: right;\">\n",
       "      <th></th>\n",
       "      <th>mois</th>\n",
       "      <th>lum</th>\n",
       "      <th>com</th>\n",
       "      <th>agg</th>\n",
       "      <th>int</th>\n",
       "      <th>atm</th>\n",
       "      <th>col</th>\n",
       "      <th>lat</th>\n",
       "      <th>long</th>\n",
       "      <th>catr</th>\n",
       "      <th>...</th>\n",
       "      <th>secu_3</th>\n",
       "      <th>secu_4</th>\n",
       "      <th>secu_5</th>\n",
       "      <th>secu_6</th>\n",
       "      <th>secu_7</th>\n",
       "      <th>secu_8</th>\n",
       "      <th>secu_9</th>\n",
       "      <th>hh</th>\n",
       "      <th>weekend</th>\n",
       "      <th>age</th>\n",
       "    </tr>\n",
       "  </thead>\n",
       "  <tbody>\n",
       "    <tr>\n",
       "      <th>7526</th>\n",
       "      <td>10</td>\n",
       "      <td>1</td>\n",
       "      <td>97801</td>\n",
       "      <td>1</td>\n",
       "      <td>3</td>\n",
       "      <td>1</td>\n",
       "      <td>3</td>\n",
       "      <td>18.098950</td>\n",
       "      <td>-63.051569</td>\n",
       "      <td>2</td>\n",
       "      <td>...</td>\n",
       "      <td>0</td>\n",
       "      <td>0</td>\n",
       "      <td>0</td>\n",
       "      <td>0</td>\n",
       "      <td>0</td>\n",
       "      <td>0</td>\n",
       "      <td>0</td>\n",
       "      <td>12</td>\n",
       "      <td>0</td>\n",
       "      <td>37</td>\n",
       "    </tr>\n",
       "    <tr>\n",
       "      <th>7527</th>\n",
       "      <td>10</td>\n",
       "      <td>1</td>\n",
       "      <td>97801</td>\n",
       "      <td>1</td>\n",
       "      <td>3</td>\n",
       "      <td>1</td>\n",
       "      <td>3</td>\n",
       "      <td>18.098950</td>\n",
       "      <td>-63.051569</td>\n",
       "      <td>2</td>\n",
       "      <td>...</td>\n",
       "      <td>0</td>\n",
       "      <td>0</td>\n",
       "      <td>0</td>\n",
       "      <td>0</td>\n",
       "      <td>0</td>\n",
       "      <td>0</td>\n",
       "      <td>0</td>\n",
       "      <td>12</td>\n",
       "      <td>0</td>\n",
       "      <td>17</td>\n",
       "    </tr>\n",
       "    <tr>\n",
       "      <th>11949</th>\n",
       "      <td>8</td>\n",
       "      <td>2</td>\n",
       "      <td>97801</td>\n",
       "      <td>2</td>\n",
       "      <td>1</td>\n",
       "      <td>1</td>\n",
       "      <td>4</td>\n",
       "      <td>18.095799</td>\n",
       "      <td>-63.035159</td>\n",
       "      <td>2</td>\n",
       "      <td>...</td>\n",
       "      <td>0</td>\n",
       "      <td>0</td>\n",
       "      <td>0</td>\n",
       "      <td>0</td>\n",
       "      <td>0</td>\n",
       "      <td>0</td>\n",
       "      <td>0</td>\n",
       "      <td>19</td>\n",
       "      <td>1</td>\n",
       "      <td>4</td>\n",
       "    </tr>\n",
       "    <tr>\n",
       "      <th>11950</th>\n",
       "      <td>8</td>\n",
       "      <td>2</td>\n",
       "      <td>97801</td>\n",
       "      <td>2</td>\n",
       "      <td>1</td>\n",
       "      <td>1</td>\n",
       "      <td>4</td>\n",
       "      <td>18.095799</td>\n",
       "      <td>-63.035159</td>\n",
       "      <td>2</td>\n",
       "      <td>...</td>\n",
       "      <td>0</td>\n",
       "      <td>0</td>\n",
       "      <td>0</td>\n",
       "      <td>0</td>\n",
       "      <td>0</td>\n",
       "      <td>0</td>\n",
       "      <td>0</td>\n",
       "      <td>19</td>\n",
       "      <td>1</td>\n",
       "      <td>26</td>\n",
       "    </tr>\n",
       "    <tr>\n",
       "      <th>11951</th>\n",
       "      <td>8</td>\n",
       "      <td>2</td>\n",
       "      <td>97801</td>\n",
       "      <td>2</td>\n",
       "      <td>1</td>\n",
       "      <td>1</td>\n",
       "      <td>4</td>\n",
       "      <td>18.095799</td>\n",
       "      <td>-63.035159</td>\n",
       "      <td>2</td>\n",
       "      <td>...</td>\n",
       "      <td>0</td>\n",
       "      <td>0</td>\n",
       "      <td>0</td>\n",
       "      <td>0</td>\n",
       "      <td>0</td>\n",
       "      <td>0</td>\n",
       "      <td>0</td>\n",
       "      <td>19</td>\n",
       "      <td>1</td>\n",
       "      <td>2</td>\n",
       "    </tr>\n",
       "    <tr>\n",
       "      <th>...</th>\n",
       "      <td>...</td>\n",
       "      <td>...</td>\n",
       "      <td>...</td>\n",
       "      <td>...</td>\n",
       "      <td>...</td>\n",
       "      <td>...</td>\n",
       "      <td>...</td>\n",
       "      <td>...</td>\n",
       "      <td>...</td>\n",
       "      <td>...</td>\n",
       "      <td>...</td>\n",
       "      <td>...</td>\n",
       "      <td>...</td>\n",
       "      <td>...</td>\n",
       "      <td>...</td>\n",
       "      <td>...</td>\n",
       "      <td>...</td>\n",
       "      <td>...</td>\n",
       "      <td>...</td>\n",
       "      <td>...</td>\n",
       "      <td>...</td>\n",
       "    </tr>\n",
       "    <tr>\n",
       "      <th>476463</th>\n",
       "      <td>1</td>\n",
       "      <td>1</td>\n",
       "      <td>97801</td>\n",
       "      <td>1</td>\n",
       "      <td>9</td>\n",
       "      <td>1</td>\n",
       "      <td>3</td>\n",
       "      <td>18.099263</td>\n",
       "      <td>-63.062189</td>\n",
       "      <td>2</td>\n",
       "      <td>...</td>\n",
       "      <td>0</td>\n",
       "      <td>0</td>\n",
       "      <td>0</td>\n",
       "      <td>0</td>\n",
       "      <td>0</td>\n",
       "      <td>0</td>\n",
       "      <td>0</td>\n",
       "      <td>17</td>\n",
       "      <td>1</td>\n",
       "      <td>25</td>\n",
       "    </tr>\n",
       "    <tr>\n",
       "      <th>491232</th>\n",
       "      <td>5</td>\n",
       "      <td>1</td>\n",
       "      <td>97801</td>\n",
       "      <td>2</td>\n",
       "      <td>1</td>\n",
       "      <td>1</td>\n",
       "      <td>3</td>\n",
       "      <td>18.068106</td>\n",
       "      <td>-63.085492</td>\n",
       "      <td>4</td>\n",
       "      <td>...</td>\n",
       "      <td>0</td>\n",
       "      <td>0</td>\n",
       "      <td>0</td>\n",
       "      <td>0</td>\n",
       "      <td>0</td>\n",
       "      <td>0</td>\n",
       "      <td>0</td>\n",
       "      <td>13</td>\n",
       "      <td>1</td>\n",
       "      <td>36</td>\n",
       "    </tr>\n",
       "    <tr>\n",
       "      <th>491233</th>\n",
       "      <td>5</td>\n",
       "      <td>1</td>\n",
       "      <td>97801</td>\n",
       "      <td>2</td>\n",
       "      <td>1</td>\n",
       "      <td>1</td>\n",
       "      <td>3</td>\n",
       "      <td>18.068106</td>\n",
       "      <td>-63.085492</td>\n",
       "      <td>4</td>\n",
       "      <td>...</td>\n",
       "      <td>0</td>\n",
       "      <td>0</td>\n",
       "      <td>0</td>\n",
       "      <td>0</td>\n",
       "      <td>0</td>\n",
       "      <td>0</td>\n",
       "      <td>0</td>\n",
       "      <td>13</td>\n",
       "      <td>1</td>\n",
       "      <td>28</td>\n",
       "    </tr>\n",
       "    <tr>\n",
       "      <th>491234</th>\n",
       "      <td>5</td>\n",
       "      <td>1</td>\n",
       "      <td>97801</td>\n",
       "      <td>2</td>\n",
       "      <td>1</td>\n",
       "      <td>1</td>\n",
       "      <td>3</td>\n",
       "      <td>18.068106</td>\n",
       "      <td>-63.085492</td>\n",
       "      <td>4</td>\n",
       "      <td>...</td>\n",
       "      <td>0</td>\n",
       "      <td>0</td>\n",
       "      <td>0</td>\n",
       "      <td>0</td>\n",
       "      <td>0</td>\n",
       "      <td>0</td>\n",
       "      <td>0</td>\n",
       "      <td>13</td>\n",
       "      <td>1</td>\n",
       "      <td>47</td>\n",
       "    </tr>\n",
       "    <tr>\n",
       "      <th>491235</th>\n",
       "      <td>5</td>\n",
       "      <td>1</td>\n",
       "      <td>97801</td>\n",
       "      <td>2</td>\n",
       "      <td>1</td>\n",
       "      <td>1</td>\n",
       "      <td>3</td>\n",
       "      <td>18.068106</td>\n",
       "      <td>-63.085492</td>\n",
       "      <td>4</td>\n",
       "      <td>...</td>\n",
       "      <td>0</td>\n",
       "      <td>0</td>\n",
       "      <td>0</td>\n",
       "      <td>0</td>\n",
       "      <td>0</td>\n",
       "      <td>0</td>\n",
       "      <td>0</td>\n",
       "      <td>13</td>\n",
       "      <td>1</td>\n",
       "      <td>51</td>\n",
       "    </tr>\n",
       "  </tbody>\n",
       "</table>\n",
       "<p>238 rows × 42 columns</p>\n",
       "</div>"
      ],
      "text/plain": [
       "        mois  lum    com agg  int  atm  col        lat       long catr  ...  \\\n",
       "7526      10    1  97801   1    3    1    3  18.098950 -63.051569    2  ...   \n",
       "7527      10    1  97801   1    3    1    3  18.098950 -63.051569    2  ...   \n",
       "11949      8    2  97801   2    1    1    4  18.095799 -63.035159    2  ...   \n",
       "11950      8    2  97801   2    1    1    4  18.095799 -63.035159    2  ...   \n",
       "11951      8    2  97801   2    1    1    4  18.095799 -63.035159    2  ...   \n",
       "...      ...  ...    ...  ..  ...  ...  ...        ...        ...  ...  ...   \n",
       "476463     1    1  97801   1    9    1    3  18.099263 -63.062189    2  ...   \n",
       "491232     5    1  97801   2    1    1    3  18.068106 -63.085492    4  ...   \n",
       "491233     5    1  97801   2    1    1    3  18.068106 -63.085492    4  ...   \n",
       "491234     5    1  97801   2    1    1    3  18.068106 -63.085492    4  ...   \n",
       "491235     5    1  97801   2    1    1    3  18.068106 -63.085492    4  ...   \n",
       "\n",
       "        secu_3  secu_4  secu_5  secu_6  secu_7  secu_8  secu_9  hh  weekend  \\\n",
       "7526         0       0       0       0       0       0       0  12        0   \n",
       "7527         0       0       0       0       0       0       0  12        0   \n",
       "11949        0       0       0       0       0       0       0  19        1   \n",
       "11950        0       0       0       0       0       0       0  19        1   \n",
       "11951        0       0       0       0       0       0       0  19        1   \n",
       "...        ...     ...     ...     ...     ...     ...     ...  ..      ...   \n",
       "476463       0       0       0       0       0       0       0  17        1   \n",
       "491232       0       0       0       0       0       0       0  13        1   \n",
       "491233       0       0       0       0       0       0       0  13        1   \n",
       "491234       0       0       0       0       0       0       0  13        1   \n",
       "491235       0       0       0       0       0       0       0  13        1   \n",
       "\n",
       "        age  \n",
       "7526     37  \n",
       "7527     17  \n",
       "11949     4  \n",
       "11950    26  \n",
       "11951     2  \n",
       "...     ...  \n",
       "476463   25  \n",
       "491232   36  \n",
       "491233   28  \n",
       "491234   47  \n",
       "491235   51  \n",
       "\n",
       "[238 rows x 42 columns]"
      ]
     },
     "execution_count": 172,
     "metadata": {},
     "output_type": "execute_result"
    }
   ],
   "source": [
    "df[df['lat'].between(18,18.1)]"
   ]
  },
  {
   "cell_type": "code",
   "execution_count": 124,
   "id": "af5a753a",
   "metadata": {},
   "outputs": [],
   "source": [
    "\n",
    "#suppression du code commune\n",
    "df = df.drop('com', axis = 1)"
   ]
  },
  {
   "cell_type": "markdown",
   "id": "ea0628b0",
   "metadata": {},
   "source": [
    "## Statistiques"
   ]
  },
  {
   "cell_type": "code",
   "execution_count": 125,
   "id": "258f79e3",
   "metadata": {},
   "outputs": [
    {
     "data": {
      "image/png": "[encoded data removed]",
      "text/plain": [
       "<Figure size 640x480 with 1 Axes>"
      ]
     },
     "metadata": {},
     "output_type": "display_data"
    }
   ],
   "source": [
    "gravite = ['Indemne','Blessé léger', 'Blessé hospitalisé', 'Tué',]\n",
    "\n",
    "df['grav'].astype('str').sort_values().hist(grid=False)\n",
    "plt.title('Répartition de la gravité')\n",
    "plt.ylabel('Nombre')\n",
    "plt.xlabel('Gravité')\n",
    "plt.xticks(ticks=['0','1','2','3'],labels=gravite);"
   ]
  },
  {
   "cell_type": "code",
   "execution_count": 126,
   "id": "83a08fb9",
   "metadata": {},
   "outputs": [
    {
     "name": "stdout",
     "output_type": "stream",
     "text": [
      "mois 3.7209049978151205e-90\n",
      "lum 0.0\n",
      "int 0.0\n",
      "atm 7.916281360525653e-306\n",
      "col 0.0\n",
      "circ 0.0\n",
      "nbv 0.0\n",
      "vosp 8.151900559932659e-258\n",
      "prof 0.0\n",
      "plan 0.0\n",
      "surf 1.5559956127296118e-174\n",
      "infra 5.910429278433572e-197\n",
      "situ 0.0\n",
      "vma 0.0\n",
      "catv 0.0\n",
      "obs 0.0\n",
      "obsm 0.0\n",
      "choc 0.0\n",
      "manv 0.0\n",
      "motor 0.0\n",
      "place 0.0\n",
      "grav 0.0\n",
      "sexe 0.0\n",
      "trajet 0.0\n",
      "secu_1 1.0\n",
      "secu_2 1.0\n",
      "secu_3 1.0\n",
      "secu_4 1.0\n",
      "secu_5 1.0\n",
      "secu_6 1.0\n",
      "secu_7 1.0\n",
      "secu_8 1.0\n",
      "secu_9 1.0\n",
      "hh 0.0\n",
      "weekend 1.311599964330357e-226\n",
      "age 0.0\n"
     ]
    }
   ],
   "source": [
    "for v in df.select_dtypes('int').columns :\n",
    "    cont = pd.crosstab(df[v], df['grav'])\n",
    "    print(v , chi2_contingency(cont).pvalue)\n",
    "    "
   ]
  },
  {
   "cell_type": "code",
   "execution_count": 127,
   "id": "48851ccc",
   "metadata": {},
   "outputs": [
    {
     "data": {
      "image/png": "[encoded data removed]",
      "text/plain": [
       "<Figure size 1000x800 with 1 Axes>"
      ]
     },
     "metadata": {},
     "output_type": "display_data"
    }
   ],
   "source": [
    "sns.color_palette(\"Paired\")\n",
    "palette = ['blue','green', 'orange','red']\n",
    "        \n",
    "g = sns.histplot(data=df, x='age',  hue='grav', palette=palette)\n",
    "g.figure.set_size_inches(10,8)\n",
    "plt.ylabel('Nombre de victimes')\n",
    "plt.title('Répartiton des gravités selon le l\\'age');"
   ]
  },
  {
   "cell_type": "code",
   "execution_count": 128,
   "id": "26ab553c",
   "metadata": {},
   "outputs": [],
   "source": [
    "#création de classes d'ages à la place de la variable numérique age\n",
    "bins = [0,10,18,25,45,65,999]\n",
    "labels=[0,1,2,3,4,5]\n",
    "df['classe_age'] = pd.cut(df['age'], bins=bins, labels=labels, include_lowest=True)"
   ]
  },
  {
   "cell_type": "code",
   "execution_count": 129,
   "id": "0e7ff406",
   "metadata": {},
   "outputs": [],
   "source": [
    "df = df.drop('age', axis = 1)"
   ]
  },
  {
   "cell_type": "code",
   "execution_count": 130,
   "id": "6146634c",
   "metadata": {},
   "outputs": [
    {
     "data": {
      "image/png": "[encoded data removed]",
      "text/plain": [
       "<Figure size 558.875x500 with 1 Axes>"
      ]
     },
     "metadata": {},
     "output_type": "display_data"
    }
   ],
   "source": [
    "sns.color_palette(\"Paired\")\n",
    "palette = ['blue','green', 'orange','red']\n",
    "        \n",
    "sns.displot(data=df, x='classe_age',  hue='grav', palette=palette, multiple='stack', bins = 6, shrink=.8, stat='density')\n",
    "plt.ylabel('Nombre de victimes')\n",
    "plt.xlabel('Classe d\\'age')\n",
    "plt.title('Répartiton des gravités selon la classe d\\'age');"
   ]
  },
  {
   "cell_type": "code",
   "execution_count": 131,
   "id": "b65ab4df",
   "metadata": {},
   "outputs": [
    {
     "data": {
      "image/png": "[encoded data removed]",
      "text/plain": [
       "<Figure size 558.875x500 with 1 Axes>"
      ]
     },
     "metadata": {},
     "output_type": "display_data"
    }
   ],
   "source": [
    "\n",
    "sns.color_palette(\"Paired\")\n",
    "palette = ['blue','green', 'orange','red']\n",
    "        \n",
    "sns.displot(data=df.sort_values(by='mois'), x='mois',  hue='grav', palette=palette, multiple='stack', bins = 12, shrink=.8)\n",
    "plt.ylabel('Nombre de victimes')\n",
    "plt.title('Répartiton des gravités selon le mois');"
   ]
  },
  {
   "cell_type": "code",
   "execution_count": 132,
   "id": "c59ee9fc",
   "metadata": {},
   "outputs": [
    {
     "data": {
      "image/png": "[encoded data removed]",
      "text/plain": [
       "<Figure size 1500x800 with 1 Axes>"
      ]
     },
     "metadata": {},
     "output_type": "display_data"
    }
   ],
   "source": [
    "plt.figure(figsize=(15,8))\n",
    "sns.color_palette(\"Paired\")\n",
    "palette = ['blue','green','orange','red']\n",
    "        \n",
    "#sns.displot(data=df, x='catr', kind='hist', hue='grav', palette=palette, multiple='dodge', bins=9, rwidth=0.7)\n",
    "sns.histplot(data=df, x='catr',  hue='grav', palette=palette, multiple='dodge', bins=9, shrink=.8)\n",
    "plt.ylabel('Nombre de victimes')\n",
    "plt.title('Répartiton des gravités selon le type de route');"
   ]
  },
  {
   "cell_type": "code",
   "execution_count": 133,
   "id": "87eff3f2",
   "metadata": {},
   "outputs": [],
   "source": [
    "# dernières conversion\n",
    "df[['mois','agg','catr','catu','classe_age']] = df[['mois','agg','catr','catu','classe_age']].astype(int)"
   ]
  },
  {
   "cell_type": "code",
   "execution_count": 134,
   "id": "3b4d1b64",
   "metadata": {},
   "outputs": [
    {
     "name": "stdout",
     "output_type": "stream",
     "text": [
      "<class 'pandas.core.frame.DataFrame'>\n",
      "Index: 442989 entries, 0 to 494180\n",
      "Data columns (total 41 columns):\n",
      " #   Column      Non-Null Count   Dtype  \n",
      "---  ------      --------------   -----  \n",
      " 0   mois        442989 non-null  int32  \n",
      " 1   lum         442989 non-null  int32  \n",
      " 2   agg         442989 non-null  int32  \n",
      " 3   int         442989 non-null  int32  \n",
      " 4   atm         442989 non-null  int32  \n",
      " 5   col         442989 non-null  int32  \n",
      " 6   lat         442989 non-null  float64\n",
      " 7   long        442989 non-null  float64\n",
      " 8   catr        442989 non-null  int32  \n",
      " 9   circ        442989 non-null  int32  \n",
      " 10  nbv         442989 non-null  int32  \n",
      " 11  vosp        442989 non-null  int32  \n",
      " 12  prof        442989 non-null  int32  \n",
      " 13  plan        442989 non-null  int32  \n",
      " 14  surf        442989 non-null  int32  \n",
      " 15  infra       442989 non-null  int32  \n",
      " 16  situ        442989 non-null  int32  \n",
      " 17  vma         442989 non-null  int32  \n",
      " 18  catv        442989 non-null  int32  \n",
      " 19  obs         442989 non-null  int32  \n",
      " 20  obsm        442989 non-null  int32  \n",
      " 21  choc        442989 non-null  int32  \n",
      " 22  manv        442989 non-null  int32  \n",
      " 23  motor       442989 non-null  int32  \n",
      " 24  place       442989 non-null  int32  \n",
      " 25  catu        442989 non-null  int32  \n",
      " 26  grav        442989 non-null  int32  \n",
      " 27  sexe        442989 non-null  int32  \n",
      " 28  trajet      442989 non-null  int32  \n",
      " 29  secu_1      442989 non-null  int32  \n",
      " 30  secu_2      442989 non-null  int32  \n",
      " 31  secu_3      442989 non-null  int32  \n",
      " 32  secu_4      442989 non-null  int32  \n",
      " 33  secu_5      442989 non-null  int32  \n",
      " 34  secu_6      442989 non-null  int32  \n",
      " 35  secu_7      442989 non-null  int32  \n",
      " 36  secu_8      442989 non-null  int32  \n",
      " 37  secu_9      442989 non-null  int32  \n",
      " 38  hh          442989 non-null  int32  \n",
      " 39  weekend     442989 non-null  int32  \n",
      " 40  classe_age  442989 non-null  int32  \n",
      "dtypes: float64(2), int32(39)\n",
      "memory usage: 92.2 MB\n"
     ]
    }
   ],
   "source": [
    "df.info()"
   ]
  },
  {
   "cell_type": "code",
   "execution_count": 135,
   "id": "df89eff5",
   "metadata": {},
   "outputs": [],
   "source": [
    "#sauvegarde du fichier\n",
    "df.to_csv('{}/accidents.csv'.format(data_path), index = False)"
   ]
  },
  {
   "cell_type": "code",
   "execution_count": null,
   "id": "2760d478",
   "metadata": {},
   "outputs": [],
   "source": []
  }
 ],
 "metadata": {
  "kernelspec": {
   "display_name": ".venv",
   "language": "python",
   "name": "python3"
  },
  "language_info": {
   "codemirror_mode": {
    "name": "ipython",
    "version": 3
   },
   "file_extension": ".py",
   "mimetype": "text/x-python",
   "name": "python",
   "nbconvert_exporter": "python",
   "pygments_lexer": "ipython3",
   "version": "3.12.4"
  }
 },
 "nbformat": 4,
 "nbformat_minor": 5
}
